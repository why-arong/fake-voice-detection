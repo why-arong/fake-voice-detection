{
  "cells": [
    {
      "cell_type": "markdown",
      "metadata": {
        "id": "view-in-github"
      },
      "source": [
        "<a href=\"https://colab.research.google.com/github/why-arong/fake-voice-detection/blob/mel-resnet/ssl_unlabeled_mel_resnet_v2.ipynb\" target=\"_parent\"><img src=\"https://colab.research.google.com/assets/colab-badge.svg\" alt=\"Open In Colab\"/></a>"
      ]
    },
    {
      "cell_type": "markdown",
      "metadata": {
        "id": "ZumbPFlx_YWT"
      },
      "source": [
        "# Prepare data"
      ]
    },
    {
      "cell_type": "code",
      "execution_count": 1,
      "metadata": {
        "colab": {
          "base_uri": "https://localhost:8080/"
        },
        "id": "cPWHF7RdVfJA",
        "outputId": "c693d31d-825c-4579-df4f-86a4245350f5"
      },
      "outputs": [],
      "source": [
        "# !wget 'https://drive.usercontent.google.com/download?id=1HLBDBTnrLvVdqXxMQTDJyTUf5ryBqcxD&export=download&authuser=1&confirm=t' -O open.zip"
      ]
    },
    {
      "cell_type": "code",
      "execution_count": 21,
      "metadata": {
        "colab": {
          "base_uri": "https://localhost:8080/"
        },
        "id": "n1aNdg46V9pL",
        "outputId": "54f4b9c8-6dfb-4a27-c03e-a18efa4932a2"
      },
      "outputs": [
        {
          "name": "stdout",
          "output_type": "stream",
          "text": [
            "[open.zip]\n",
            "  End-of-central-directory signature not found.  Either this file is not\n",
            "  a zipfile, or it constitutes one disk of a multi-part archive.  In the\n",
            "  latter case the central directory and zipfile comment will be found on\n",
            "  the last disk(s) of this archive.\n",
            "unzip:  cannot find zipfile directory in one of open.zip or\n",
            "        open.zip.zip, and cannot find open.zip.ZIP, period.\n"
          ]
        }
      ],
      "source": [
        "# !unzip -q open.zip"
      ]
    },
    {
      "cell_type": "code",
      "execution_count": 1,
      "metadata": {},
      "outputs": [
        {
          "name": "stdout",
          "output_type": "stream",
          "text": [
            "Requirement already satisfied: torchsummary in /home/haaaa/anaconda3/lib/python3.11/site-packages (1.5.1)\n",
            "\n",
            "\u001b[1m[\u001b[0m\u001b[34;49mnotice\u001b[0m\u001b[1;39;49m]\u001b[0m\u001b[39;49m A new release of pip is available: \u001b[0m\u001b[31;49m24.0\u001b[0m\u001b[39;49m -> \u001b[0m\u001b[32;49m24.1.2\u001b[0m\n",
            "\u001b[1m[\u001b[0m\u001b[34;49mnotice\u001b[0m\u001b[1;39;49m]\u001b[0m\u001b[39;49m To update, run: \u001b[0m\u001b[32;49mpip install --upgrade pip\u001b[0m\n"
          ]
        }
      ],
      "source": [
        "!pip3 install torchsummary"
      ]
    },
    {
      "cell_type": "code",
      "execution_count": 2,
      "metadata": {},
      "outputs": [
        {
          "name": "stdout",
          "output_type": "stream",
          "text": [
            "Requirement already satisfied: torch in /home/haaaa/anaconda3/lib/python3.11/site-packages (2.3.1)\n",
            "Requirement already satisfied: filelock in /home/haaaa/anaconda3/lib/python3.11/site-packages (from torch) (3.13.1)\n",
            "Requirement already satisfied: typing-extensions>=4.8.0 in /home/haaaa/anaconda3/lib/python3.11/site-packages (from torch) (4.12.2)\n",
            "Requirement already satisfied: sympy in /home/haaaa/anaconda3/lib/python3.11/site-packages (from torch) (1.12)\n",
            "Requirement already satisfied: networkx in /home/haaaa/anaconda3/lib/python3.11/site-packages (from torch) (3.1)\n",
            "Requirement already satisfied: jinja2 in /home/haaaa/anaconda3/lib/python3.11/site-packages (from torch) (3.1.2)\n",
            "Requirement already satisfied: fsspec in /home/haaaa/anaconda3/lib/python3.11/site-packages (from torch) (2023.10.0)\n",
            "Requirement already satisfied: nvidia-cuda-nvrtc-cu12==12.1.105 in /home/haaaa/anaconda3/lib/python3.11/site-packages (from torch) (12.1.105)\n",
            "Requirement already satisfied: nvidia-cuda-runtime-cu12==12.1.105 in /home/haaaa/anaconda3/lib/python3.11/site-packages (from torch) (12.1.105)\n",
            "Requirement already satisfied: nvidia-cuda-cupti-cu12==12.1.105 in /home/haaaa/anaconda3/lib/python3.11/site-packages (from torch) (12.1.105)\n",
            "Requirement already satisfied: nvidia-cudnn-cu12==8.9.2.26 in /home/haaaa/anaconda3/lib/python3.11/site-packages (from torch) (8.9.2.26)\n",
            "Requirement already satisfied: nvidia-cublas-cu12==12.1.3.1 in /home/haaaa/anaconda3/lib/python3.11/site-packages (from torch) (12.1.3.1)\n",
            "Requirement already satisfied: nvidia-cufft-cu12==11.0.2.54 in /home/haaaa/anaconda3/lib/python3.11/site-packages (from torch) (11.0.2.54)\n",
            "Requirement already satisfied: nvidia-curand-cu12==10.3.2.106 in /home/haaaa/anaconda3/lib/python3.11/site-packages (from torch) (10.3.2.106)\n",
            "Requirement already satisfied: nvidia-cusolver-cu12==11.4.5.107 in /home/haaaa/anaconda3/lib/python3.11/site-packages (from torch) (11.4.5.107)\n",
            "Requirement already satisfied: nvidia-cusparse-cu12==12.1.0.106 in /home/haaaa/anaconda3/lib/python3.11/site-packages (from torch) (12.1.0.106)\n",
            "Requirement already satisfied: nvidia-nccl-cu12==2.20.5 in /home/haaaa/anaconda3/lib/python3.11/site-packages (from torch) (2.20.5)\n",
            "Requirement already satisfied: nvidia-nvtx-cu12==12.1.105 in /home/haaaa/anaconda3/lib/python3.11/site-packages (from torch) (12.1.105)\n",
            "Requirement already satisfied: triton==2.3.1 in /home/haaaa/anaconda3/lib/python3.11/site-packages (from torch) (2.3.1)\n",
            "Requirement already satisfied: nvidia-nvjitlink-cu12 in /home/haaaa/anaconda3/lib/python3.11/site-packages (from nvidia-cusolver-cu12==11.4.5.107->torch) (12.3.101)\n",
            "Requirement already satisfied: MarkupSafe>=2.0 in /home/haaaa/anaconda3/lib/python3.11/site-packages (from jinja2->torch) (2.1.3)\n",
            "Requirement already satisfied: mpmath>=0.19 in /home/haaaa/anaconda3/lib/python3.11/site-packages (from sympy->torch) (1.3.0)\n",
            "\n",
            "\u001b[1m[\u001b[0m\u001b[34;49mnotice\u001b[0m\u001b[1;39;49m]\u001b[0m\u001b[39;49m A new release of pip is available: \u001b[0m\u001b[31;49m24.0\u001b[0m\u001b[39;49m -> \u001b[0m\u001b[32;49m24.1.2\u001b[0m\n",
            "\u001b[1m[\u001b[0m\u001b[34;49mnotice\u001b[0m\u001b[1;39;49m]\u001b[0m\u001b[39;49m To update, run: \u001b[0m\u001b[32;49mpip install --upgrade pip\u001b[0m\n"
          ]
        }
      ],
      "source": [
        "!pip3 install torch"
      ]
    },
    {
      "cell_type": "code",
      "execution_count": 3,
      "metadata": {},
      "outputs": [
        {
          "name": "stdout",
          "output_type": "stream",
          "text": [
            "Requirement already satisfied: torchaudio in /home/haaaa/anaconda3/lib/python3.11/site-packages (2.3.1)\n",
            "Requirement already satisfied: torch==2.3.1 in /home/haaaa/anaconda3/lib/python3.11/site-packages (from torchaudio) (2.3.1)\n",
            "Requirement already satisfied: filelock in /home/haaaa/anaconda3/lib/python3.11/site-packages (from torch==2.3.1->torchaudio) (3.13.1)\n",
            "Requirement already satisfied: typing-extensions>=4.8.0 in /home/haaaa/anaconda3/lib/python3.11/site-packages (from torch==2.3.1->torchaudio) (4.12.2)\n",
            "Requirement already satisfied: sympy in /home/haaaa/anaconda3/lib/python3.11/site-packages (from torch==2.3.1->torchaudio) (1.12)\n",
            "Requirement already satisfied: networkx in /home/haaaa/anaconda3/lib/python3.11/site-packages (from torch==2.3.1->torchaudio) (3.1)\n",
            "Requirement already satisfied: jinja2 in /home/haaaa/anaconda3/lib/python3.11/site-packages (from torch==2.3.1->torchaudio) (3.1.2)\n",
            "Requirement already satisfied: fsspec in /home/haaaa/anaconda3/lib/python3.11/site-packages (from torch==2.3.1->torchaudio) (2023.10.0)\n",
            "Requirement already satisfied: nvidia-cuda-nvrtc-cu12==12.1.105 in /home/haaaa/anaconda3/lib/python3.11/site-packages (from torch==2.3.1->torchaudio) (12.1.105)\n",
            "Requirement already satisfied: nvidia-cuda-runtime-cu12==12.1.105 in /home/haaaa/anaconda3/lib/python3.11/site-packages (from torch==2.3.1->torchaudio) (12.1.105)\n",
            "Requirement already satisfied: nvidia-cuda-cupti-cu12==12.1.105 in /home/haaaa/anaconda3/lib/python3.11/site-packages (from torch==2.3.1->torchaudio) (12.1.105)\n",
            "Requirement already satisfied: nvidia-cudnn-cu12==8.9.2.26 in /home/haaaa/anaconda3/lib/python3.11/site-packages (from torch==2.3.1->torchaudio) (8.9.2.26)\n",
            "Requirement already satisfied: nvidia-cublas-cu12==12.1.3.1 in /home/haaaa/anaconda3/lib/python3.11/site-packages (from torch==2.3.1->torchaudio) (12.1.3.1)\n",
            "Requirement already satisfied: nvidia-cufft-cu12==11.0.2.54 in /home/haaaa/anaconda3/lib/python3.11/site-packages (from torch==2.3.1->torchaudio) (11.0.2.54)\n",
            "Requirement already satisfied: nvidia-curand-cu12==10.3.2.106 in /home/haaaa/anaconda3/lib/python3.11/site-packages (from torch==2.3.1->torchaudio) (10.3.2.106)\n",
            "Requirement already satisfied: nvidia-cusolver-cu12==11.4.5.107 in /home/haaaa/anaconda3/lib/python3.11/site-packages (from torch==2.3.1->torchaudio) (11.4.5.107)\n",
            "Requirement already satisfied: nvidia-cusparse-cu12==12.1.0.106 in /home/haaaa/anaconda3/lib/python3.11/site-packages (from torch==2.3.1->torchaudio) (12.1.0.106)\n",
            "Requirement already satisfied: nvidia-nccl-cu12==2.20.5 in /home/haaaa/anaconda3/lib/python3.11/site-packages (from torch==2.3.1->torchaudio) (2.20.5)\n",
            "Requirement already satisfied: nvidia-nvtx-cu12==12.1.105 in /home/haaaa/anaconda3/lib/python3.11/site-packages (from torch==2.3.1->torchaudio) (12.1.105)\n",
            "Requirement already satisfied: triton==2.3.1 in /home/haaaa/anaconda3/lib/python3.11/site-packages (from torch==2.3.1->torchaudio) (2.3.1)\n",
            "Requirement already satisfied: nvidia-nvjitlink-cu12 in /home/haaaa/anaconda3/lib/python3.11/site-packages (from nvidia-cusolver-cu12==11.4.5.107->torch==2.3.1->torchaudio) (12.3.101)\n",
            "Requirement already satisfied: MarkupSafe>=2.0 in /home/haaaa/anaconda3/lib/python3.11/site-packages (from jinja2->torch==2.3.1->torchaudio) (2.1.3)\n",
            "Requirement already satisfied: mpmath>=0.19 in /home/haaaa/anaconda3/lib/python3.11/site-packages (from sympy->torch==2.3.1->torchaudio) (1.3.0)\n",
            "\n",
            "\u001b[1m[\u001b[0m\u001b[34;49mnotice\u001b[0m\u001b[1;39;49m]\u001b[0m\u001b[39;49m A new release of pip is available: \u001b[0m\u001b[31;49m24.0\u001b[0m\u001b[39;49m -> \u001b[0m\u001b[32;49m24.1.2\u001b[0m\n",
            "\u001b[1m[\u001b[0m\u001b[34;49mnotice\u001b[0m\u001b[1;39;49m]\u001b[0m\u001b[39;49m To update, run: \u001b[0m\u001b[32;49mpip install --upgrade pip\u001b[0m\n"
          ]
        }
      ],
      "source": [
        "!pip3 install torchaudio"
      ]
    },
    {
      "cell_type": "code",
      "execution_count": 4,
      "metadata": {},
      "outputs": [
        {
          "name": "stdout",
          "output_type": "stream",
          "text": [
            "Requirement already satisfied: librosa in /home/haaaa/anaconda3/lib/python3.11/site-packages (0.10.2.post1)\n",
            "Requirement already satisfied: audioread>=2.1.9 in /home/haaaa/anaconda3/lib/python3.11/site-packages (from librosa) (3.0.1)\n",
            "Requirement already satisfied: numpy!=1.22.0,!=1.22.1,!=1.22.2,>=1.20.3 in /home/haaaa/anaconda3/lib/python3.11/site-packages (from librosa) (1.26.3)\n",
            "Requirement already satisfied: scipy>=1.2.0 in /home/haaaa/anaconda3/lib/python3.11/site-packages (from librosa) (1.11.4)\n",
            "Requirement already satisfied: scikit-learn>=0.20.0 in /home/haaaa/anaconda3/lib/python3.11/site-packages (from librosa) (1.2.2)\n",
            "Requirement already satisfied: joblib>=0.14 in /home/haaaa/anaconda3/lib/python3.11/site-packages (from librosa) (1.2.0)\n",
            "Requirement already satisfied: decorator>=4.3.0 in /home/haaaa/anaconda3/lib/python3.11/site-packages (from librosa) (5.1.1)\n",
            "Requirement already satisfied: numba>=0.51.0 in /home/haaaa/anaconda3/lib/python3.11/site-packages (from librosa) (0.58.1)\n",
            "Requirement already satisfied: soundfile>=0.12.1 in /home/haaaa/anaconda3/lib/python3.11/site-packages (from librosa) (0.12.1)\n",
            "Requirement already satisfied: pooch>=1.1 in /home/haaaa/anaconda3/lib/python3.11/site-packages (from librosa) (1.8.2)\n",
            "Requirement already satisfied: soxr>=0.3.2 in /home/haaaa/anaconda3/lib/python3.11/site-packages (from librosa) (0.3.7)\n",
            "Requirement already satisfied: typing-extensions>=4.1.1 in /home/haaaa/anaconda3/lib/python3.11/site-packages (from librosa) (4.12.2)\n",
            "Requirement already satisfied: lazy-loader>=0.1 in /home/haaaa/anaconda3/lib/python3.11/site-packages (from librosa) (0.3)\n",
            "Requirement already satisfied: msgpack>=1.0 in /home/haaaa/anaconda3/lib/python3.11/site-packages (from librosa) (1.0.7)\n",
            "Requirement already satisfied: llvmlite<0.42,>=0.41.0dev0 in /home/haaaa/anaconda3/lib/python3.11/site-packages (from numba>=0.51.0->librosa) (0.41.0)\n",
            "Requirement already satisfied: platformdirs>=2.5.0 in /home/haaaa/anaconda3/lib/python3.11/site-packages (from pooch>=1.1->librosa) (3.10.0)\n",
            "Requirement already satisfied: packaging>=20.0 in /home/haaaa/anaconda3/lib/python3.11/site-packages (from pooch>=1.1->librosa) (23.1)\n",
            "Requirement already satisfied: requests>=2.19.0 in /home/haaaa/anaconda3/lib/python3.11/site-packages (from pooch>=1.1->librosa) (2.31.0)\n",
            "Requirement already satisfied: threadpoolctl>=2.0.0 in /home/haaaa/anaconda3/lib/python3.11/site-packages (from scikit-learn>=0.20.0->librosa) (2.2.0)\n",
            "Requirement already satisfied: cffi>=1.0 in /home/haaaa/anaconda3/lib/python3.11/site-packages (from soundfile>=0.12.1->librosa) (1.16.0)\n",
            "Requirement already satisfied: pycparser in /home/haaaa/anaconda3/lib/python3.11/site-packages (from cffi>=1.0->soundfile>=0.12.1->librosa) (2.21)\n",
            "Requirement already satisfied: charset-normalizer<4,>=2 in /home/haaaa/anaconda3/lib/python3.11/site-packages (from requests>=2.19.0->pooch>=1.1->librosa) (2.0.4)\n",
            "Requirement already satisfied: idna<4,>=2.5 in /home/haaaa/anaconda3/lib/python3.11/site-packages (from requests>=2.19.0->pooch>=1.1->librosa) (3.4)\n",
            "Requirement already satisfied: urllib3<3,>=1.21.1 in /home/haaaa/anaconda3/lib/python3.11/site-packages (from requests>=2.19.0->pooch>=1.1->librosa) (1.26.18)\n",
            "Requirement already satisfied: certifi>=2017.4.17 in /home/haaaa/anaconda3/lib/python3.11/site-packages (from requests>=2.19.0->pooch>=1.1->librosa) (2023.11.17)\n",
            "\n",
            "\u001b[1m[\u001b[0m\u001b[34;49mnotice\u001b[0m\u001b[1;39;49m]\u001b[0m\u001b[39;49m A new release of pip is available: \u001b[0m\u001b[31;49m24.0\u001b[0m\u001b[39;49m -> \u001b[0m\u001b[32;49m24.1.2\u001b[0m\n",
            "\u001b[1m[\u001b[0m\u001b[34;49mnotice\u001b[0m\u001b[1;39;49m]\u001b[0m\u001b[39;49m To update, run: \u001b[0m\u001b[32;49mpip install --upgrade pip\u001b[0m\n"
          ]
        }
      ],
      "source": [
        "!pip3 install librosa"
      ]
    },
    {
      "cell_type": "markdown",
      "metadata": {
        "id": "PViVm1pz_b-n"
      },
      "source": [
        "# Import libraries and setting"
      ]
    },
    {
      "cell_type": "code",
      "execution_count": 5,
      "metadata": {
        "colab": {
          "base_uri": "https://localhost:8080/"
        },
        "id": "fw_Vdb-9dkGX",
        "outputId": "5fe93a5a-bdab-423b-d231-0317a522d892"
      },
      "outputs": [
        {
          "data": {
            "text/plain": [
              "device(type='cuda')"
            ]
          },
          "execution_count": 5,
          "metadata": {},
          "output_type": "execute_result"
        }
      ],
      "source": [
        "import os\n",
        "import random\n",
        "import math\n",
        "\n",
        "import numpy as np\n",
        "import pandas as pd\n",
        "\n",
        "from tqdm import tqdm\n",
        "import matplotlib.pyplot as plt\n",
        "from sklearn.model_selection import train_test_split\n",
        "\n",
        "import torch\n",
        "import torch.nn as nn\n",
        "import torch.nn.functional as F\n",
        "import torch.optim as optim\n",
        "from torch.utils.data import Dataset, DataLoader\n",
        "\n",
        "# import torchaudio\n",
        "import torchaudio.transforms as T\n",
        "\n",
        "import librosa\n",
        "\n",
        "from torchsummary import summary\n",
        "\n",
        "device = torch.device(\"cuda\" if torch.cuda.is_available() else \"cpu\")\n",
        "\n",
        "device"
      ]
    },
    {
      "cell_type": "code",
      "execution_count": 6,
      "metadata": {
        "id": "NdrOQCZOGwu5"
      },
      "outputs": [],
      "source": [
        "SR = 32000\n",
        "SEED = 1\n",
        "BS = 4"
      ]
    },
    {
      "cell_type": "code",
      "execution_count": 7,
      "metadata": {
        "id": "l76-i46ItR2H"
      },
      "outputs": [],
      "source": [
        "def seed_everything(seed):\n",
        "    random.seed(seed)\n",
        "    os.environ['PYTHONHASHSEED'] = str(seed)\n",
        "    np.random.seed(seed)\n",
        "    torch.manual_seed(seed)\n",
        "    torch.cuda.manual_seed(seed)\n",
        "    torch.backends.cudnn.deterministic = True\n",
        "    torch.backends.cudnn.benchmark = True\n",
        "\n",
        "seed_everything(SEED)"
      ]
    },
    {
      "cell_type": "markdown",
      "metadata": {
        "id": "3YcNOy2L_wbJ"
      },
      "source": [
        "# Define dataset and augmetation pipeline"
      ]
    },
    {
      "cell_type": "code",
      "execution_count": 8,
      "metadata": {
        "id": "Hn6tjLg4Hw8j"
      },
      "outputs": [],
      "source": [
        "def convert_to_fixed_length(audio, fixed_len):\n",
        "    audio = audio.unsqueeze(0)\n",
        "\n",
        "    # print(audio.shape)\n",
        "    _, length = audio.shape\n",
        "\n",
        "    if length < fixed_len:\n",
        "        to_pad = fixed_len - length\n",
        "        left_pad = torch.randint(0, to_pad + 1, (1,)).item()\n",
        "        right_pad = to_pad - left_pad\n",
        "        audio = torch.nn.functional.pad(audio, (left_pad, right_pad), mode='constant', value=0)\n",
        "    else:\n",
        "        start = torch.randint(0, length - fixed_len + 1, (1,)).item()\n",
        "        audio = audio[:, start:start + fixed_len]\n",
        "\n",
        "    return audio\n",
        "\n",
        "\n",
        "class AudioDataset(Dataset):\n",
        "    def __init__(self, data_paths, labels, unlabeled_paths, fixed_len=SR*4):\n",
        "        self.data_paths = data_paths\n",
        "        self.labels = labels\n",
        "        self.unlabeled_paths = unlabeled_paths\n",
        "        self.fixed_len = fixed_len\n",
        "\n",
        "        self.data_length = len(data_paths)\n",
        "        self.unlabeled_length = len(unlabeled_paths)\n",
        "\n",
        "    def __len__(self):\n",
        "        return self.data_length\n",
        "\n",
        "    def __getitem__(self, idx):\n",
        "        rand_val = random.random()\n",
        "\n",
        "        if rand_val <= 0.15:\n",
        "            wave = torch.zeros(1, self.fixed_len)\n",
        "            merged_label = (0, 0)\n",
        "\n",
        "        elif rand_val <= 0.3:\n",
        "            path, label = self.data_paths[idx], self.labels[idx]\n",
        "            wave, _ = librosa.load(path, sr=SR)\n",
        "            \n",
        "            wave = torch.tensor(wave).float()\n",
        "\n",
        "            wave = convert_to_fixed_length(wave, self.fixed_len)\n",
        "            merged_label = (0, 1) if label else (1, 0)\n",
        "\n",
        "        elif rand_val <= 0.6:\n",
        "            rand_idx = np.random.randint(0, self.data_length)\n",
        "            path1, label1 = self.data_paths[idx], self.labels[idx]\n",
        "            path2, label2 = self.data_paths[rand_idx], self.labels[rand_idx]\n",
        "\n",
        "            wave1, _ = librosa.load(path1, sr=SR)\n",
        "            wave2, _ = librosa.load(path2, sr=SR)\n",
        "\n",
        "            wave1 = torch.tensor(wave1).float()\n",
        "            wave2 = torch.tensor(wave2).float()\n",
        "\n",
        "            wave1 = convert_to_fixed_length(wave1, self.fixed_len)\n",
        "            wave2 = convert_to_fixed_length(wave2, self.fixed_len)\n",
        "\n",
        "            wave = (wave1 + wave2) / 2\n",
        "            merged_label = (int(label1 == 0 or label2 == 0), int(label1 == 1 or label2 == 1))\n",
        "\n",
        "        else:\n",
        "            rand_idx = np.random.randint(0, self.unlabeled_length)\n",
        "            path1, label = self.data_paths[idx], self.labels[idx]\n",
        "            path2 = self.unlabeled_paths[rand_idx]\n",
        "\n",
        "            wave1, _ = librosa.load(path1, sr=SR)\n",
        "            wave2, _ = librosa.load(path2, sr=SR)\n",
        "\n",
        "            wave1 = torch.tensor(wave1).float()\n",
        "            wave2 = torch.tensor(wave2).float()\n",
        "\n",
        "            wave1 = convert_to_fixed_length(wave1, self.fixed_len)\n",
        "            wave2 = convert_to_fixed_length(wave2, self.fixed_len)\n",
        "\n",
        "            wave = (wave1 + wave2) / 2\n",
        "            merged_label = (0.5, 1) if label else (1, 0.5)\n",
        "        wave = torch.tensor(wave).float()\n",
        "        label = torch.tensor(merged_label).float()\n",
        "        return wave, label"
      ]
    },
    {
      "cell_type": "code",
      "execution_count": 9,
      "metadata": {
        "id": "FD15bZBP0Q0J"
      },
      "outputs": [],
      "source": [
        "class AudioPipeline(nn.Module):\n",
        "    def __init__(self, on_train=True, noise_level=0.1):\n",
        "        super().__init__()\n",
        "        self.on_train = on_train\n",
        "        self.noise_level = noise_level\n",
        "\n",
        "        self.spec_250 = self.create_spec(250)\n",
        "        self.spec_500 = self.create_spec(500)\n",
        "        self.spec_750 = self.create_spec(750)\n",
        "        self.spec_1000 = self.create_spec(1000)\n",
        "\n",
        "        self.spec_aug = nn.Sequential(\n",
        "            T.FrequencyMasking(20),\n",
        "            T.TimeMasking(10),\n",
        "            T.TimeMasking(10),\n",
        "        )\n",
        "\n",
        "    def create_spec(self, win_length):\n",
        "        return nn.Sequential(\n",
        "            T.MelSpectrogram(\n",
        "                sample_rate=SR,\n",
        "                n_fft=2048,\n",
        "                win_length=win_length,\n",
        "                hop_length=500,\n",
        "                n_mels=128\n",
        "            ),\n",
        "            T.AmplitudeToDB()\n",
        "        )\n",
        "\n",
        "    def forward(self, wave):\n",
        "        with torch.no_grad():\n",
        "            if self.on_train:\n",
        "                noise = torch.randn_like(wave) * self.noise_level\n",
        "                wave = wave + noise\n",
        "\n",
        "            spec0 = self.spec_250(wave)\n",
        "            spec1 = self.spec_500(wave)\n",
        "            spec2 = self.spec_750(wave)\n",
        "            spec3 = self.spec_1000(wave)\n",
        "            specs = torch.cat([spec0, spec1, spec2, spec3], dim=1)[:, :, :, :-1]\n",
        "\n",
        "            if self.on_train:\n",
        "                specs = self.spec_aug(specs)\n",
        "\n",
        "            specs = self.normalize(specs)\n",
        "        return specs\n",
        "\n",
        "    def normalize(self, spec, epsilon=1e-6):\n",
        "        mean = spec.mean(dim=[2, 3], keepdim=True)\n",
        "        std = spec.std(dim=[2, 3], keepdim=True)\n",
        "        return (spec - mean) / (std + epsilon)\n",
        "\n",
        "    def train(self):\n",
        "        self.on_train = True\n",
        "\n",
        "    def eval(self):\n",
        "        self.on_train = False"
      ]
    },
    {
      "cell_type": "code",
      "execution_count": 12,
      "metadata": {
        "colab": {
          "base_uri": "https://localhost:8080/",
          "height": 206
        },
        "id": "YZ7aeiCBM618",
        "outputId": "3595640f-5713-4f84-ed96-d0530fe07a00"
      },
      "outputs": [
        {
          "data": {
            "text/html": [
              "<div>\n",
              "<style scoped>\n",
              "    .dataframe tbody tr th:only-of-type {\n",
              "        vertical-align: middle;\n",
              "    }\n",
              "\n",
              "    .dataframe tbody tr th {\n",
              "        vertical-align: top;\n",
              "    }\n",
              "\n",
              "    .dataframe thead th {\n",
              "        text-align: right;\n",
              "    }\n",
              "</style>\n",
              "<table border=\"1\" class=\"dataframe\">\n",
              "  <thead>\n",
              "    <tr style=\"text-align: right;\">\n",
              "      <th></th>\n",
              "      <th>id</th>\n",
              "      <th>path</th>\n",
              "      <th>label</th>\n",
              "    </tr>\n",
              "  </thead>\n",
              "  <tbody>\n",
              "    <tr>\n",
              "      <th>0</th>\n",
              "      <td>RUNQPNJF</td>\n",
              "      <td>./train/RUNQPNJF.ogg</td>\n",
              "      <td>1</td>\n",
              "    </tr>\n",
              "    <tr>\n",
              "      <th>1</th>\n",
              "      <td>JFAWUOGJ</td>\n",
              "      <td>./train/JFAWUOGJ.ogg</td>\n",
              "      <td>0</td>\n",
              "    </tr>\n",
              "    <tr>\n",
              "      <th>2</th>\n",
              "      <td>RDKEKEVX</td>\n",
              "      <td>./train/RDKEKEVX.ogg</td>\n",
              "      <td>1</td>\n",
              "    </tr>\n",
              "    <tr>\n",
              "      <th>3</th>\n",
              "      <td>QYHJDOFK</td>\n",
              "      <td>./train/QYHJDOFK.ogg</td>\n",
              "      <td>1</td>\n",
              "    </tr>\n",
              "    <tr>\n",
              "      <th>4</th>\n",
              "      <td>RSPQNHAO</td>\n",
              "      <td>./train/RSPQNHAO.ogg</td>\n",
              "      <td>1</td>\n",
              "    </tr>\n",
              "  </tbody>\n",
              "</table>\n",
              "</div>"
            ],
            "text/plain": [
              "         id                  path  label\n",
              "0  RUNQPNJF  ./train/RUNQPNJF.ogg      1\n",
              "1  JFAWUOGJ  ./train/JFAWUOGJ.ogg      0\n",
              "2  RDKEKEVX  ./train/RDKEKEVX.ogg      1\n",
              "3  QYHJDOFK  ./train/QYHJDOFK.ogg      1\n",
              "4  RSPQNHAO  ./train/RSPQNHAO.ogg      1"
            ]
          },
          "execution_count": 12,
          "metadata": {},
          "output_type": "execute_result"
        }
      ],
      "source": [
        "train = pd.read_csv(\"train.csv\")\n",
        "train[\"label\"] = train[\"label\"].apply(lambda x: 1 if x == \"real\" else 0)\n",
        "train.head()"
      ]
    },
    {
      "cell_type": "code",
      "execution_count": 13,
      "metadata": {
        "colab": {
          "base_uri": "https://localhost:8080/"
        },
        "id": "iE46Qk7bym5V",
        "outputId": "256c4a63-02f3-4379-8024-ef40c768c710"
      },
      "outputs": [
        {
          "data": {
            "text/plain": [
              "['./unlabeled_data/WXTZHVXY.ogg',\n",
              " './unlabeled_data/KWLUVSUZ.ogg',\n",
              " './unlabeled_data/JXQTQJGY.ogg',\n",
              " './unlabeled_data/AVDRWFTZ.ogg',\n",
              " './unlabeled_data/KXXLKOGQ.ogg']"
            ]
          },
          "execution_count": 13,
          "metadata": {},
          "output_type": "execute_result"
        }
      ],
      "source": [
        "unlabeled_folder = \"./unlabeled_data\"\n",
        "unlabeled_paths = [os.path.join(unlabeled_folder, file_path) for file_path in os.listdir(unlabeled_folder)]\n",
        "unlabeled_paths[:5]"
      ]
    },
    {
      "cell_type": "code",
      "execution_count": 14,
      "metadata": {
        "id": "TMubx8kTNsFH"
      },
      "outputs": [],
      "source": [
        "train_paths, valid_paths, train_labels, valid_labels = train_test_split(\n",
        "    train[\"path\"].values, train[\"label\"].values, test_size=0.2, stratify=train[\"label\"]\n",
        ")\n",
        "\n",
        "train_dataset = AudioDataset(train_paths, train_labels, unlabeled_paths)\n",
        "valid_dataset = AudioDataset(valid_paths, valid_labels, unlabeled_paths)\n",
        "\n",
        "train_dataloader = DataLoader(train_dataset, batch_size=BS, shuffle=True)\n",
        "valid_dataloader = DataLoader(valid_dataset, batch_size=BS, shuffle=False)\n",
        "\n",
        "audio_pipeline = AudioPipeline().to(device)"
      ]
    },
    {
      "cell_type": "markdown",
      "metadata": {
        "id": "CB1330cq_8ws"
      },
      "source": [
        "# Define model"
      ]
    },
    {
      "cell_type": "code",
      "execution_count": 15,
      "metadata": {
        "colab": {
          "base_uri": "https://localhost:8080/"
        },
        "id": "4nfQkuoiedy9",
        "outputId": "c2f7ef92-bb8e-42fe-c3e6-e55c814c1606"
      },
      "outputs": [
        {
          "name": "stdout",
          "output_type": "stream",
          "text": [
            "Collecting flash-attn\n",
            "  Using cached flash_attn-2.6.1.tar.gz (2.6 MB)\n",
            "  Preparing metadata (setup.py) ... \u001b[?25lerror\n",
            "  \u001b[1;31merror\u001b[0m: \u001b[1msubprocess-exited-with-error\u001b[0m\n",
            "  \n",
            "  \u001b[31m×\u001b[0m \u001b[32mpython setup.py egg_info\u001b[0m did not run successfully.\n",
            "  \u001b[31m│\u001b[0m exit code: \u001b[1;36m1\u001b[0m\n",
            "  \u001b[31m╰─>\u001b[0m \u001b[31m[12 lines of output]\u001b[0m\n",
            "  \u001b[31m   \u001b[0m fatal: not a git repository (or any of the parent directories): .git\n",
            "  \u001b[31m   \u001b[0m \n",
            "  \u001b[31m   \u001b[0m \n",
            "  \u001b[31m   \u001b[0m torch.__version__  = 2.3.1+cu121\n",
            "  \u001b[31m   \u001b[0m \n",
            "  \u001b[31m   \u001b[0m \n",
            "  \u001b[31m   \u001b[0m Traceback (most recent call last):\n",
            "  \u001b[31m   \u001b[0m   File \"<string>\", line 2, in <module>\n",
            "  \u001b[31m   \u001b[0m   File \"<pip-setuptools-caller>\", line 34, in <module>\n",
            "  \u001b[31m   \u001b[0m   File \"/tmp/pip-install-nqytcn1s/flash-attn_d12e49b28b574405b40dfcab15eaaeb6/setup.py\", line 115, in <module>\n",
            "  \u001b[31m   \u001b[0m     raise RuntimeError(\n",
            "  \u001b[31m   \u001b[0m RuntimeError: FlashAttention is only supported on CUDA 11.6 and above.  Note: make sure nvcc has a supported version by running nvcc -V.\n",
            "  \u001b[31m   \u001b[0m \u001b[31m[end of output]\u001b[0m\n",
            "  \n",
            "  \u001b[1;35mnote\u001b[0m: This error originates from a subprocess, and is likely not a problem with pip.\n",
            "\u001b[?25h\u001b[1;31merror\u001b[0m: \u001b[1mmetadata-generation-failed\u001b[0m\n",
            "\n",
            "\u001b[31m×\u001b[0m Encountered error while generating package metadata.\n",
            "\u001b[31m╰─>\u001b[0m See above for output.\n",
            "\n",
            "\u001b[1;35mnote\u001b[0m: This is an issue with the package mentioned above, not pip.\n",
            "\u001b[1;36mhint\u001b[0m: See above for details.\n",
            "\n",
            "\u001b[1m[\u001b[0m\u001b[34;49mnotice\u001b[0m\u001b[1;39;49m]\u001b[0m\u001b[39;49m A new release of pip is available: \u001b[0m\u001b[31;49m24.0\u001b[0m\u001b[39;49m -> \u001b[0m\u001b[32;49m24.1.2\u001b[0m\n",
            "\u001b[1m[\u001b[0m\u001b[34;49mnotice\u001b[0m\u001b[1;39;49m]\u001b[0m\u001b[39;49m To update, run: \u001b[0m\u001b[32;49mpip install --upgrade pip\u001b[0m\n"
          ]
        }
      ],
      "source": [
        "!pip3 install -U flash-attn --no-build-isolation\n"
      ]
    },
    {
      "cell_type": "code",
      "execution_count": 14,
      "metadata": {
        "colab": {
          "base_uri": "https://localhost:8080/"
        },
        "id": "tQpZRcmBadb3",
        "outputId": "6a39a0a6-f0a9-4578-d163-2825b2124586"
      },
      "outputs": [
        {
          "name": "stderr",
          "output_type": "stream",
          "text": [
            "/home/haaaa/anaconda3/lib/python3.11/site-packages/transformers/utils/generic.py:260: UserWarning: torch.utils._pytree._register_pytree_node is deprecated. Please use torch.utils._pytree.register_pytree_node instead.\n",
            "  torch.utils._pytree._register_pytree_node(\n",
            "/home/haaaa/anaconda3/lib/python3.11/site-packages/transformers/utils/generic.py:260: UserWarning: torch.utils._pytree._register_pytree_node is deprecated. Please use torch.utils._pytree.register_pytree_node instead.\n",
            "  torch.utils._pytree._register_pytree_node(\n",
            "/home/haaaa/anaconda3/lib/python3.11/site-packages/transformers/utils/generic.py:260: UserWarning: torch.utils._pytree._register_pytree_node is deprecated. Please use torch.utils._pytree.register_pytree_node instead.\n",
            "  torch.utils._pytree._register_pytree_node(\n",
            "Some weights of Wav2Vec2Model were not initialized from the model checkpoint at facebook/wav2vec2-base-960h and are newly initialized: ['wav2vec2.encoder.pos_conv_embed.conv.parametrizations.weight.original1', 'wav2vec2.masked_spec_embed', 'wav2vec2.encoder.pos_conv_embed.conv.parametrizations.weight.original0']\n",
            "You should probably TRAIN this model on a down-stream task to be able to use it for predictions and inference.\n"
          ]
        }
      ],
      "source": [
        "from transformers import Wav2Vec2Processor, Wav2Vec2Model\n",
        "\n",
        "# Processor 및 모델 로드\n",
        "processor = Wav2Vec2Processor.from_pretrained(\"facebook/wav2vec2-base-960h\")\n",
        "wav2vec2_model = Wav2Vec2Model.from_pretrained(\"facebook/wav2vec2-base-960h\").to(device)\n",
        "\n",
        "processor.feature_extractor.sampling_rate = SR\n",
        "wav2vec2_model.config.sampling_rate = SR\n"
      ]
    },
    {
      "cell_type": "code",
      "execution_count": 15,
      "metadata": {
        "colab": {
          "base_uri": "https://localhost:8080/"
        },
        "id": "lxYtF6IFogpr",
        "outputId": "89596328-bc47-4782-d06e-a5645ee7888c"
      },
      "outputs": [],
      "source": [
        "import torch.nn as nn\n",
        "\n",
        "class AudioClassifier(nn.Module):\n",
        "    def __init__(self, wav2vec2_model, num_labels):\n",
        "        super(AudioClassifier, self).__init__()\n",
        "        self.wav2vec2 = wav2vec2_model\n",
        "        # print(\"wav2vec2 config ---------------------\")\n",
        "        # print(self.wav2vec2.config)\n",
        "        self.classifier = nn.Linear(self.wav2vec2.config.hidden_size, num_labels)\n",
        "\n",
        "    def forward(self, input_values):\n",
        "        outputs = self.wav2vec2(input_values).last_hidden_state\n",
        "        # 시퀀스의 첫 번째 토큰의 출력을 사용 (또는 mean pooling 등)\n",
        "        pooled_output = outputs.mean(dim=1)\n",
        "        logits = self.classifier(pooled_output)\n",
        "        # print(\"logits :\", logits)\n",
        "        return logits\n",
        "\n",
        "audio_pipeline = AudioClassifier(wav2vec2_model, num_labels=2).to(device)\n"
      ]
    },
    {
      "cell_type": "code",
      "execution_count": 18,
      "metadata": {
        "colab": {
          "base_uri": "https://localhost:8080/",
          "height": 567
        },
        "id": "YcQ8VymDqzsB",
        "outputId": "0f376d6b-2a2b-4b85-978d-a8c47862c811"
      },
      "outputs": [],
      "source": [
        "import torch.optim as optim\n",
        "from tqdm import tqdm\n",
        "\n",
        "# 손실 함수 및 옵티마이저 설정\n",
        "criterion = torch.nn.BCEWithLogitsLoss()\n",
        "optimizer = optim.Adam(audio_pipeline.parameters(), lr=5e-5)\n",
        "\n",
        "# 학습 함수\n",
        "def train(model, dataloader, criterion, optimizer, device):\n",
        "    model.train()\n",
        "    total_loss = 0\n",
        "    for speeches, labels in tqdm(dataloader):\n",
        "        inputs = processor(speeches, sampling_rate=SR, return_tensors=\"pt\", padding=True).input_values.to(device)\n",
        "        inputs = inputs.squeeze()  # [batch_size, sequence_length]로 변환\n",
        "        labels = torch.tensor(labels).float().to(device)\n",
        "        optimizer.zero_grad()\n",
        "        # print(\"inputs -----------------\")\n",
        "        # print(inputs.shape)\n",
        "        outputs = model(inputs)\n",
        "        # print(outputs.shape)\n",
        "        # print(outputs)\n",
        "        # print(labels.shape)\n",
        "        # print(labels)\n",
        "        loss = criterion(outputs, labels)\n",
        "        loss.backward()\n",
        "        optimizer.step()\n",
        "        total_loss += loss.item()\n",
        "    return total_loss / len(dataloader)\n",
        "\n",
        "# 평가 함수\n",
        "def evaluate(model, dataloader, criterion, device):\n",
        "    model.eval()\n",
        "    total_loss = 0\n",
        "    with torch.no_grad():\n",
        "        for speeches, labels in tqdm(dataloader):\n",
        "            inputs = processor(speeches, sampling_rate=SR, return_tensors=\"pt\", padding=True).input_values.to(device)\n",
        "            inputs = inputs.squeeze()  # [batch_size, sequence_length]로 변환\n",
        "            labels = torch.tensor(labels).float().to(device)\n",
        "            outputs = model(inputs)\n",
        "            loss = criterion(outputs, labels)\n",
        "            total_loss += loss.item()\n",
        "    return total_loss / len(dataloader)\n"
      ]
    },
    {
      "cell_type": "code",
      "execution_count": 19,
      "metadata": {
        "id": "J_uUuNb5T8Ww"
      },
      "outputs": [
        {
          "name": "stderr",
          "output_type": "stream",
          "text": [
            "  0%|          | 0/11088 [00:00<?, ?it/s]/tmp/ipykernel_18359/2159105451.py:81: UserWarning: To copy construct from a tensor, it is recommended to use sourceTensor.clone().detach() or sourceTensor.clone().detach().requires_grad_(True), rather than torch.tensor(sourceTensor).\n",
            "  wave = torch.tensor(wave).float()\n",
            "/tmp/ipykernel_18359/2159105451.py:81: UserWarning: To copy construct from a tensor, it is recommended to use sourceTensor.clone().detach() or sourceTensor.clone().detach().requires_grad_(True), rather than torch.tensor(sourceTensor).\n",
            "  wave = torch.tensor(wave).float()\n",
            "2024-07-19 01:34:00.492500: I tensorflow/core/util/port.cc:113] oneDNN custom operations are on. You may see slightly different numerical results due to floating-point round-off errors from different computation orders. To turn them off, set the environment variable `TF_ENABLE_ONEDNN_OPTS=0`.\n",
            "2024-07-19 01:34:00.518058: E external/local_xla/xla/stream_executor/cuda/cuda_dnn.cc:9261] Unable to register cuDNN factory: Attempting to register factory for plugin cuDNN when one has already been registered\n",
            "2024-07-19 01:34:00.518095: E external/local_xla/xla/stream_executor/cuda/cuda_fft.cc:607] Unable to register cuFFT factory: Attempting to register factory for plugin cuFFT when one has already been registered\n",
            "2024-07-19 01:34:00.518941: E external/local_xla/xla/stream_executor/cuda/cuda_blas.cc:1515] Unable to register cuBLAS factory: Attempting to register factory for plugin cuBLAS when one has already been registered\n",
            "2024-07-19 01:34:00.524072: I tensorflow/core/platform/cpu_feature_guard.cc:182] This TensorFlow binary is optimized to use available CPU instructions in performance-critical operations.\n",
            "To enable the following instructions: AVX2 AVX512F AVX512_VNNI FMA, in other operations, rebuild TensorFlow with the appropriate compiler flags.\n",
            "2024-07-19 01:34:01.052451: W tensorflow/compiler/tf2tensorrt/utils/py_utils.cc:38] TF-TRT Warning: Could not find TensorRT\n",
            "/tmp/ipykernel_18359/3243945756.py:15: UserWarning: To copy construct from a tensor, it is recommended to use sourceTensor.clone().detach() or sourceTensor.clone().detach().requires_grad_(True), rather than torch.tensor(sourceTensor).\n",
            "  labels = torch.tensor(labels).float().to(device)\n",
            "100%|██████████| 11088/11088 [1:00:12<00:00,  3.07it/s]\n",
            "  0%|          | 0/2772 [00:00<?, ?it/s]/tmp/ipykernel_18359/3243945756.py:38: UserWarning: To copy construct from a tensor, it is recommended to use sourceTensor.clone().detach() or sourceTensor.clone().detach().requires_grad_(True), rather than torch.tensor(sourceTensor).\n",
            "  labels = torch.tensor(labels).float().to(device)\n",
            "100%|██████████| 2772/2772 [05:15<00:00,  8.80it/s]\n"
          ]
        },
        {
          "name": "stdout",
          "output_type": "stream",
          "text": [
            "Epoch 1/3, Train Loss: 0.6708119078492275, Validation Loss: 0.671300904016302\n"
          ]
        },
        {
          "name": "stderr",
          "output_type": "stream",
          "text": [
            "100%|██████████| 11088/11088 [1:00:22<00:00,  3.06it/s]\n",
            "100%|██████████| 2772/2772 [05:13<00:00,  8.85it/s]\n"
          ]
        },
        {
          "name": "stdout",
          "output_type": "stream",
          "text": [
            "Epoch 2/3, Train Loss: 0.6738962174257502, Validation Loss: 0.6740125173227095\n"
          ]
        },
        {
          "name": "stderr",
          "output_type": "stream",
          "text": [
            "  5%|▌         | 591/11088 [03:14<57:30,  3.04it/s]  \n"
          ]
        },
        {
          "ename": "KeyboardInterrupt",
          "evalue": "",
          "output_type": "error",
          "traceback": [
            "\u001b[0;31m---------------------------------------------------------------------------\u001b[0m",
            "\u001b[0;31mKeyboardInterrupt\u001b[0m                         Traceback (most recent call last)",
            "Cell \u001b[0;32mIn[19], line 8\u001b[0m\n\u001b[1;32m      5\u001b[0m valid_losses \u001b[38;5;241m=\u001b[39m []\n\u001b[1;32m      7\u001b[0m \u001b[38;5;28;01mfor\u001b[39;00m epoch \u001b[38;5;129;01min\u001b[39;00m \u001b[38;5;28mrange\u001b[39m(num_epochs):\n\u001b[0;32m----> 8\u001b[0m     train_loss \u001b[38;5;241m=\u001b[39m train(audio_pipeline, train_dataloader, criterion, optimizer, device)\n\u001b[1;32m      9\u001b[0m     valid_loss \u001b[38;5;241m=\u001b[39m evaluate(audio_pipeline, valid_dataloader, criterion, device)\n\u001b[1;32m     10\u001b[0m     train_losses\u001b[38;5;241m.\u001b[39mappend(train_loss)\n",
            "Cell \u001b[0;32mIn[18], line 25\u001b[0m, in \u001b[0;36mtrain\u001b[0;34m(model, dataloader, criterion, optimizer, device)\u001b[0m\n\u001b[1;32m     20\u001b[0m \u001b[38;5;66;03m# print(outputs.shape)\u001b[39;00m\n\u001b[1;32m     21\u001b[0m \u001b[38;5;66;03m# print(outputs)\u001b[39;00m\n\u001b[1;32m     22\u001b[0m \u001b[38;5;66;03m# print(labels.shape)\u001b[39;00m\n\u001b[1;32m     23\u001b[0m \u001b[38;5;66;03m# print(labels)\u001b[39;00m\n\u001b[1;32m     24\u001b[0m loss \u001b[38;5;241m=\u001b[39m criterion(outputs, labels)\n\u001b[0;32m---> 25\u001b[0m loss\u001b[38;5;241m.\u001b[39mbackward()\n\u001b[1;32m     26\u001b[0m optimizer\u001b[38;5;241m.\u001b[39mstep()\n\u001b[1;32m     27\u001b[0m total_loss \u001b[38;5;241m+\u001b[39m\u001b[38;5;241m=\u001b[39m loss\u001b[38;5;241m.\u001b[39mitem()\n",
            "File \u001b[0;32m~/anaconda3/lib/python3.11/site-packages/torch/_tensor.py:525\u001b[0m, in \u001b[0;36mTensor.backward\u001b[0;34m(self, gradient, retain_graph, create_graph, inputs)\u001b[0m\n\u001b[1;32m    515\u001b[0m \u001b[38;5;28;01mif\u001b[39;00m has_torch_function_unary(\u001b[38;5;28mself\u001b[39m):\n\u001b[1;32m    516\u001b[0m     \u001b[38;5;28;01mreturn\u001b[39;00m handle_torch_function(\n\u001b[1;32m    517\u001b[0m         Tensor\u001b[38;5;241m.\u001b[39mbackward,\n\u001b[1;32m    518\u001b[0m         (\u001b[38;5;28mself\u001b[39m,),\n\u001b[0;32m   (...)\u001b[0m\n\u001b[1;32m    523\u001b[0m         inputs\u001b[38;5;241m=\u001b[39minputs,\n\u001b[1;32m    524\u001b[0m     )\n\u001b[0;32m--> 525\u001b[0m torch\u001b[38;5;241m.\u001b[39mautograd\u001b[38;5;241m.\u001b[39mbackward(\n\u001b[1;32m    526\u001b[0m     \u001b[38;5;28mself\u001b[39m, gradient, retain_graph, create_graph, inputs\u001b[38;5;241m=\u001b[39minputs\n\u001b[1;32m    527\u001b[0m )\n",
            "File \u001b[0;32m~/anaconda3/lib/python3.11/site-packages/torch/autograd/__init__.py:267\u001b[0m, in \u001b[0;36mbackward\u001b[0;34m(tensors, grad_tensors, retain_graph, create_graph, grad_variables, inputs)\u001b[0m\n\u001b[1;32m    262\u001b[0m     retain_graph \u001b[38;5;241m=\u001b[39m create_graph\n\u001b[1;32m    264\u001b[0m \u001b[38;5;66;03m# The reason we repeat the same comment below is that\u001b[39;00m\n\u001b[1;32m    265\u001b[0m \u001b[38;5;66;03m# some Python versions print out the first line of a multi-line function\u001b[39;00m\n\u001b[1;32m    266\u001b[0m \u001b[38;5;66;03m# calls in the traceback and some print out the last line\u001b[39;00m\n\u001b[0;32m--> 267\u001b[0m _engine_run_backward(\n\u001b[1;32m    268\u001b[0m     tensors,\n\u001b[1;32m    269\u001b[0m     grad_tensors_,\n\u001b[1;32m    270\u001b[0m     retain_graph,\n\u001b[1;32m    271\u001b[0m     create_graph,\n\u001b[1;32m    272\u001b[0m     inputs,\n\u001b[1;32m    273\u001b[0m     allow_unreachable\u001b[38;5;241m=\u001b[39m\u001b[38;5;28;01mTrue\u001b[39;00m,\n\u001b[1;32m    274\u001b[0m     accumulate_grad\u001b[38;5;241m=\u001b[39m\u001b[38;5;28;01mTrue\u001b[39;00m,\n\u001b[1;32m    275\u001b[0m )\n",
            "File \u001b[0;32m~/anaconda3/lib/python3.11/site-packages/torch/autograd/graph.py:744\u001b[0m, in \u001b[0;36m_engine_run_backward\u001b[0;34m(t_outputs, *args, **kwargs)\u001b[0m\n\u001b[1;32m    742\u001b[0m     unregister_hooks \u001b[38;5;241m=\u001b[39m _register_logging_hooks_on_whole_graph(t_outputs)\n\u001b[1;32m    743\u001b[0m \u001b[38;5;28;01mtry\u001b[39;00m:\n\u001b[0;32m--> 744\u001b[0m     \u001b[38;5;28;01mreturn\u001b[39;00m Variable\u001b[38;5;241m.\u001b[39m_execution_engine\u001b[38;5;241m.\u001b[39mrun_backward(  \u001b[38;5;66;03m# Calls into the C++ engine to run the backward pass\u001b[39;00m\n\u001b[1;32m    745\u001b[0m         t_outputs, \u001b[38;5;241m*\u001b[39margs, \u001b[38;5;241m*\u001b[39m\u001b[38;5;241m*\u001b[39mkwargs\n\u001b[1;32m    746\u001b[0m     )  \u001b[38;5;66;03m# Calls into the C++ engine to run the backward pass\u001b[39;00m\n\u001b[1;32m    747\u001b[0m \u001b[38;5;28;01mfinally\u001b[39;00m:\n\u001b[1;32m    748\u001b[0m     \u001b[38;5;28;01mif\u001b[39;00m attach_logging_hooks:\n",
            "\u001b[0;31mKeyboardInterrupt\u001b[0m: "
          ]
        }
      ],
      "source": [
        "\n",
        "# 학습 및 평가 루프\n",
        "num_epochs = 3\n",
        "best_valid_loss = float('inf')\n",
        "train_losses = []\n",
        "valid_losses = []\n",
        "\n",
        "for epoch in range(num_epochs):\n",
        "    train_loss = train(audio_pipeline, train_dataloader, criterion, optimizer, device)\n",
        "    valid_loss = evaluate(audio_pipeline, valid_dataloader, criterion, device)\n",
        "    train_losses.append(train_loss)\n",
        "    valid_losses.append(valid_loss)\n",
        "\n",
        "    # 최상의 모델 저장\n",
        "    if valid_loss < best_valid_loss:\n",
        "        best_valid_loss = valid_loss\n",
        "        torch.save(audio_pipeline.state_dict(), 'best_audio_pipeline.pt')\n",
        "\n",
        "    print(f\"Epoch {epoch+1}/{num_epochs}, Train Loss: {train_loss}, Validation Loss: {valid_loss}\")\n"
      ]
    },
    {
      "cell_type": "code",
      "execution_count": 20,
      "metadata": {
        "id": "hPeWDBmEcV09"
      },
      "outputs": [
        {
          "data": {
            "image/png": "[encoded data removed]",
            "text/plain": [
              "<Figure size 1000x500 with 1 Axes>"
            ]
          },
          "metadata": {},
          "output_type": "display_data"
        }
      ],
      "source": [
        "\n",
        "# 손실 그래프 그리기\n",
        "plt.figure(figsize=(10, 5))\n",
        "plt.plot(train_losses, label='Train Loss')\n",
        "plt.plot(valid_losses, label='Validation Loss')\n",
        "plt.xlabel('Epoch')\n",
        "plt.ylabel('Loss')\n",
        "plt.title('Train and Validation Loss')\n",
        "plt.legend()\n",
        "plt.show()"
      ]
    },
    {
      "cell_type": "markdown",
      "metadata": {
        "id": "whw07Xzx8d5c"
      },
      "source": [
        "# Inference"
      ]
    },
    {
      "cell_type": "code",
      "execution_count": 16,
      "metadata": {
        "id": "jJBWuCHgfyFo"
      },
      "outputs": [],
      "source": [
        "class TestAudioDataset(Dataset):\n",
        "    def __init__(self, file_paths):\n",
        "        self.file_paths = file_paths\n",
        "        self.length = len(file_paths)\n",
        "\n",
        "    def __len__(self):\n",
        "        return self.length\n",
        "\n",
        "    def __getitem__(self, index):\n",
        "        wave, _ = librosa.load(self.file_paths[index], sr=SR)\n",
        "        wave = torch.tensor(wave).float()\n",
        "        wave = wave.unsqueeze(0)\n",
        "        start_idx = int(0.5 * SR)\n",
        "        end_idx = int(4.5 * SR)\n",
        "        wave = wave[:, start_idx:end_idx]\n",
        "        return wave"
      ]
    },
    {
      "cell_type": "code",
      "execution_count": 17,
      "metadata": {
        "id": "8Ibnjek7ii6m"
      },
      "outputs": [],
      "source": [
        "test = pd.read_csv(\"test.csv\")\n",
        "test_dataset = TestAudioDataset(test[\"path\"].values)\n",
        "test_dataloader = DataLoader(test_dataset, batch_size=BS, shuffle=False)"
      ]
    },
    {
      "cell_type": "code",
      "execution_count": 19,
      "metadata": {
        "id": "Zz76PZ5viveo"
      },
      "outputs": [
        {
          "name": "stderr",
          "output_type": "stream",
          "text": [
            "100%|██████████| 12500/12500 [23:03<00:00,  9.04it/s]\n"
          ]
        }
      ],
      "source": [
        "\n",
        "# 최상의 모델 로드\n",
        "best_model = AudioClassifier(wav2vec2_model, num_labels=2).to(device)\n",
        "best_model.load_state_dict(torch.load('best_audio_pipeline.pt'))\n",
        "best_model.eval()\n",
        "\n",
        "# 테스트 데이터셋에 대한 예측 수행\n",
        "preds = []\n",
        "for waves in tqdm(test_dataloader):\n",
        "    inputs = processor(waves, sampling_rate=SR, return_tensors=\"pt\", padding=True).input_values.to(device)\n",
        "    inputs = inputs.squeeze()  # [batch_size, sequence_length]로 변환\n",
        "    outputs = best_model(inputs)\n",
        "    pred = torch.sigmoid(outputs).detach().cpu().numpy()\n",
        "    preds += pred.tolist()\n"
      ]
    },
    {
      "cell_type": "code",
      "execution_count": 22,
      "metadata": {
        "id": "LWGN5oV2mDDH"
      },
      "outputs": [],
      "source": [
        "submit = pd.read_csv(\"sample_submission.csv\")\n",
        "submit.iloc[:, 1:] = preds\n",
        "submit.to_csv(\"ssl_unlabeled_mel_wav2vec2_2ep.csv\", index=False)"
      ]
    },
    {
      "cell_type": "code",
      "execution_count": 23,
      "metadata": {
        "collapsed": true,
        "id": "wIeKg3M9zEYB"
      },
      "outputs": [
        {
          "data": {
            "text/html": [
              "<div>\n",
              "<style scoped>\n",
              "    .dataframe tbody tr th:only-of-type {\n",
              "        vertical-align: middle;\n",
              "    }\n",
              "\n",
              "    .dataframe tbody tr th {\n",
              "        vertical-align: top;\n",
              "    }\n",
              "\n",
              "    .dataframe thead th {\n",
              "        text-align: right;\n",
              "    }\n",
              "</style>\n",
              "<table border=\"1\" class=\"dataframe\">\n",
              "  <thead>\n",
              "    <tr style=\"text-align: right;\">\n",
              "      <th></th>\n",
              "      <th>id</th>\n",
              "      <th>fake</th>\n",
              "      <th>real</th>\n",
              "    </tr>\n",
              "  </thead>\n",
              "  <tbody>\n",
              "    <tr>\n",
              "      <th>0</th>\n",
              "      <td>TEST_00000</td>\n",
              "      <td>0.629356</td>\n",
              "      <td>0.590382</td>\n",
              "    </tr>\n",
              "    <tr>\n",
              "      <th>1</th>\n",
              "      <td>TEST_00001</td>\n",
              "      <td>0.629356</td>\n",
              "      <td>0.590382</td>\n",
              "    </tr>\n",
              "    <tr>\n",
              "      <th>2</th>\n",
              "      <td>TEST_00002</td>\n",
              "      <td>0.629356</td>\n",
              "      <td>0.590382</td>\n",
              "    </tr>\n",
              "    <tr>\n",
              "      <th>3</th>\n",
              "      <td>TEST_00003</td>\n",
              "      <td>0.629356</td>\n",
              "      <td>0.590382</td>\n",
              "    </tr>\n",
              "    <tr>\n",
              "      <th>4</th>\n",
              "      <td>TEST_00004</td>\n",
              "      <td>0.629356</td>\n",
              "      <td>0.590382</td>\n",
              "    </tr>\n",
              "  </tbody>\n",
              "</table>\n",
              "</div>"
            ],
            "text/plain": [
              "           id      fake      real\n",
              "0  TEST_00000  0.629356  0.590382\n",
              "1  TEST_00001  0.629356  0.590382\n",
              "2  TEST_00002  0.629356  0.590382\n",
              "3  TEST_00003  0.629356  0.590382\n",
              "4  TEST_00004  0.629356  0.590382"
            ]
          },
          "execution_count": 23,
          "metadata": {},
          "output_type": "execute_result"
        }
      ],
      "source": [
        "submit.head()"
      ]
    },
    {
      "cell_type": "code",
      "execution_count": 24,
      "metadata": {
        "id": "XYsUmtuX0UDP"
      },
      "outputs": [
        {
          "data": {
            "image/png": "[encoded data removed]",
            "text/plain": [
              "<Figure size 1200x500 with 2 Axes>"
            ]
          },
          "metadata": {},
          "output_type": "display_data"
        }
      ],
      "source": [
        "plt.figure(figsize=(12, 5))\n",
        "\n",
        "plt.subplot(1, 2, 1)\n",
        "plt.title(\"Distribution of Fake\")\n",
        "plt.hist(submit[\"fake\"], bins=20)\n",
        "\n",
        "plt.subplot(1, 2, 2)\n",
        "plt.title(\"Distribution of Real\")\n",
        "plt.hist(submit[\"real\"], bins=20)\n",
        "plt.show()"
      ]
    },
    {
      "cell_type": "code",
      "execution_count": null,
      "metadata": {
        "id": "Et90yfJb8Qlv"
      },
      "outputs": [],
      "source": []
    },
    {
      "cell_type": "code",
      "execution_count": null,
      "metadata": {},
      "outputs": [],
      "source": []
    }
  ],
  "metadata": {
    "colab": {
      "provenance": []
    },
    "kernelspec": {
      "display_name": "Python 3",
      "name": "python3"
    },
    "language_info": {
      "codemirror_mode": {
        "name": "ipython",
        "version": 3
      },
      "file_extension": ".py",
      "mimetype": "text/x-python",
      "name": "python",
      "nbconvert_exporter": "python",
      "pygments_lexer": "ipython3",
      "version": "3.11.7"
    }
  },
  "nbformat": 4,
  "nbformat_minor": 0
}
