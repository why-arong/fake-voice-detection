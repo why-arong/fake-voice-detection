{
  "nbformat": 4,
  "nbformat_minor": 0,
  "metadata": {
    "colab": {
      "provenance": [],
      "gpuType": "T4",
      "authorship_tag": "ABX9TyMg+e9FPMgew2P2qByCvXqf",
      "include_colab_link": true
    },
    "kernelspec": {
      "name": "python3",
      "display_name": "Python 3"
    },
    "language_info": {
      "name": "python"
    },
    "accelerator": "GPU"
  },
  "cells": [
    {
      "cell_type": "markdown",
      "metadata": {
        "id": "view-in-github",
        "colab_type": "text"
      },
      "source": [
        "<a href=\"https://colab.research.google.com/github/why-arong/fake-voice-detection/blob/mel-resnet/merged_mel_resnet_v2.ipynb\" target=\"_parent\"><img src=\"https://colab.research.google.com/assets/colab-badge.svg\" alt=\"Open In Colab\"/></a>"
      ]
    },
    {
      "cell_type": "code",
      "execution_count": null,
      "metadata": {
        "colab": {
          "base_uri": "https://localhost:8080/"
        },
        "id": "cPWHF7RdVfJA",
        "outputId": "9338e937-c62e-4fe5-c02d-3e9538230206"
      },
      "outputs": [
        {
          "output_type": "stream",
          "name": "stdout",
          "text": [
            "--2024-07-03 17:17:23--  https://drive.usercontent.google.com/download?id=1HLBDBTnrLvVdqXxMQTDJyTUf5ryBqcxD&export=download&authuser=1&confirm=t\n",
            "Resolving drive.usercontent.google.com (drive.usercontent.google.com)... 74.125.68.132, 2404:6800:4003:c02::84\n",
            "Connecting to drive.usercontent.google.com (drive.usercontent.google.com)|74.125.68.132|:443... connected.\n",
            "HTTP request sent, awaiting response... 200 OK\n",
            "Length: 3313752771 (3.1G) [application/octet-stream]\n",
            "Saving to: ‘open.zip’\n",
            "\n",
            "open.zip            100%[===================>]   3.09G  74.5MB/s    in 50s     \n",
            "\n",
            "2024-07-03 17:18:13 (63.6 MB/s) - ‘open.zip’ saved [3313752771/3313752771]\n",
            "\n"
          ]
        }
      ],
      "source": [
        "!wget 'https://drive.usercontent.google.com/download?id=1HLBDBTnrLvVdqXxMQTDJyTUf5ryBqcxD&export=download&authuser=1&confirm=t' -O open.zip"
      ]
    },
    {
      "cell_type": "code",
      "source": [
        "!unzip -q open.zip"
      ],
      "metadata": {
        "id": "n1aNdg46V9pL"
      },
      "execution_count": null,
      "outputs": []
    },
    {
      "cell_type": "code",
      "source": [
        "import os\n",
        "import random\n",
        "import math\n",
        "\n",
        "import numpy as np\n",
        "import pandas as pd\n",
        "import librosa\n",
        "\n",
        "from tqdm import tqdm\n",
        "import matplotlib.pyplot as plt\n",
        "from sklearn.model_selection import train_test_split\n",
        "\n",
        "import torch\n",
        "import torch.nn as nn\n",
        "import torch.nn.functional as F\n",
        "import torch.optim as optim\n",
        "from torch.utils.data import Dataset, DataLoader\n",
        "\n",
        "from torchsummary import summary\n",
        "\n",
        "device = torch.device(\"cuda\" if torch.cuda.is_available() else \"cpu\")"
      ],
      "metadata": {
        "id": "fw_Vdb-9dkGX"
      },
      "execution_count": null,
      "outputs": []
    },
    {
      "cell_type": "code",
      "source": [
        "SR = 32000\n",
        "SEED = 1\n",
        "BATCH = 32\n",
        "EPOCH = 10\n",
        "LR = 1e-4"
      ],
      "metadata": {
        "id": "NdrOQCZOGwu5"
      },
      "execution_count": null,
      "outputs": []
    },
    {
      "cell_type": "code",
      "source": [
        "def seed_everything(seed):\n",
        "    random.seed(seed)\n",
        "    os.environ['PYTHONHASHSEED'] = str(seed)\n",
        "    np.random.seed(seed)\n",
        "    torch.manual_seed(seed)\n",
        "    torch.cuda.manual_seed(seed)\n",
        "    torch.backends.cudnn.deterministic = True\n",
        "    torch.backends.cudnn.benchmark = True\n",
        "\n",
        "seed_everything(SEED)"
      ],
      "metadata": {
        "id": "l76-i46ItR2H"
      },
      "execution_count": null,
      "outputs": []
    },
    {
      "cell_type": "code",
      "source": [
        "def log_scale_random(min_val, max_val):\n",
        "    log_min = math.log(min_val)\n",
        "    log_max = math.log(max_val)\n",
        "    log_val = random.uniform(log_min, log_max)\n",
        "    return math.exp(log_val)\n",
        "\n",
        "\n",
        "def generate_random_noise(length):\n",
        "    base_freq = log_scale_random(100, 1500)\n",
        "    end_freq = log_scale_random(100, 1500)\n",
        "\n",
        "    t = np.linspace(0, 1, length, endpoint=False)\n",
        "    freq_modulation = np.exp(np.linspace(np.log(base_freq), np.log(end_freq), length))\n",
        "    noise = (1 / freq_modulation) * np.sin(2 * np.pi * freq_modulation * t)\n",
        "    return noise\n",
        "\n",
        "\n",
        "def generate_white_noise(length, alpha=0.01):\n",
        "    return np.random.normal(0, alpha, length)\n",
        "\n",
        "\n",
        "def convert_to_fixed_length(audio, fixed_len):\n",
        "    length = len(audio)\n",
        "\n",
        "    if length < fixed_len:\n",
        "        to_pad = fixed_len - length\n",
        "        left_pad = np.random.randint(0, to_pad + 1)\n",
        "        right_pad = to_pad - left_pad\n",
        "        audio = np.pad(audio, (left_pad, right_pad), mode='constant')\n",
        "\n",
        "    else:\n",
        "        start = np.random.randint(0, length - fixed_len + 1)\n",
        "        audio = audio[start:start + fixed_len]\n",
        "\n",
        "    return audio"
      ],
      "metadata": {
        "id": "WI1dCp-JG15l"
      },
      "execution_count": null,
      "outputs": []
    },
    {
      "cell_type": "code",
      "source": [
        "class AudioDataset(Dataset):\n",
        "    def __init__(self, file_paths, labels, shape=(128, 64), fixed_len=32000):\n",
        "        self.file_paths = file_paths\n",
        "        self.labels = labels\n",
        "        self.shape = shape\n",
        "        self.fixed_len = fixed_len\n",
        "        self.length = len(file_paths)\n",
        "\n",
        "    def __len__(self):\n",
        "        return self.length\n",
        "\n",
        "    def __getitem__(self, idx):\n",
        "        rand_val = random.random()\n",
        "\n",
        "        if rand_val <= 0.25:\n",
        "            raw = np.zeros(self.fixed_len)\n",
        "            merged_label = (0, 0)\n",
        "\n",
        "        elif rand_val <= 0.5:\n",
        "            path, label = self.file_paths[idx], self.labels[idx]\n",
        "            raw, _ = librosa.load(path, sr=SR)\n",
        "            raw = convert_to_fixed_length(raw, self.fixed_len)\n",
        "            merged_label = (0, 1) if label else (1, 0)\n",
        "\n",
        "        else:\n",
        "            rand_idx = np.random.randint(0, self.length)\n",
        "            path1, label1 = self.file_paths[idx], self.labels[idx]\n",
        "            path2, label2 = self.file_paths[rand_idx], self.labels[rand_idx]\n",
        "\n",
        "            raw1, _ = librosa.load(path1, sr=SR)\n",
        "            raw2, _ = librosa.load(path2, sr=SR)\n",
        "\n",
        "            raw1 = convert_to_fixed_length(raw1, self.fixed_len)\n",
        "            raw2 = convert_to_fixed_length(raw2, self.fixed_len)\n",
        "\n",
        "            raw = raw1 + raw2\n",
        "            merged_label = (int(label1 == 0 or label2 == 0), int(label1 == 1 or label2 == 1))\n",
        "\n",
        "        if random.random() <= 0.5:\n",
        "            raw += generate_white_noise(self.fixed_len)\n",
        "        raw += generate_random_noise(self.fixed_len)\n",
        "\n",
        "        n_mels = self.shape[0]\n",
        "        hop_length = self.fixed_len // self.shape[1] + 1\n",
        "        data = librosa.feature.melspectrogram(y=raw, n_mels=n_mels, hop_length=hop_length)\n",
        "        data = librosa.power_to_db(data, ref=np.max)\n",
        "        data = (data - np.mean(data)) / np.std(data)\n",
        "\n",
        "        data = torch.tensor(data).unsqueeze(0).float()\n",
        "        label = torch.tensor(merged_label).float()\n",
        "        return data, label"
      ],
      "metadata": {
        "id": "Hn6tjLg4Hw8j"
      },
      "execution_count": null,
      "outputs": []
    },
    {
      "cell_type": "code",
      "source": [
        "train = pd.read_csv(\"train.csv\")\n",
        "train[\"label\"] = train[\"label\"].apply(lambda x: 1 if x == \"real\" else 0)\n",
        "train.head()"
      ],
      "metadata": {
        "colab": {
          "base_uri": "https://localhost:8080/",
          "height": 206
        },
        "id": "YZ7aeiCBM618",
        "outputId": "2bb3979e-12ea-4951-d5bf-79782de7125d"
      },
      "execution_count": null,
      "outputs": [
        {
          "output_type": "execute_result",
          "data": {
            "text/plain": [
              "         id                  path  label\n",
              "0  RUNQPNJF  ./train/RUNQPNJF.ogg      1\n",
              "1  JFAWUOGJ  ./train/JFAWUOGJ.ogg      0\n",
              "2  RDKEKEVX  ./train/RDKEKEVX.ogg      1\n",
              "3  QYHJDOFK  ./train/QYHJDOFK.ogg      1\n",
              "4  RSPQNHAO  ./train/RSPQNHAO.ogg      1"
            ],
            "text/html": [
              "\n",
              "  <div id=\"df-dae127e3-8224-4073-b654-15b6934779a6\" class=\"colab-df-container\">\n",
              "    <div>\n",
              "<style scoped>\n",
              "    .dataframe tbody tr th:only-of-type {\n",
              "        vertical-align: middle;\n",
              "    }\n",
              "\n",
              "    .dataframe tbody tr th {\n",
              "        vertical-align: top;\n",
              "    }\n",
              "\n",
              "    .dataframe thead th {\n",
              "        text-align: right;\n",
              "    }\n",
              "</style>\n",
              "<table border=\"1\" class=\"dataframe\">\n",
              "  <thead>\n",
              "    <tr style=\"text-align: right;\">\n",
              "      <th></th>\n",
              "      <th>id</th>\n",
              "      <th>path</th>\n",
              "      <th>label</th>\n",
              "    </tr>\n",
              "  </thead>\n",
              "  <tbody>\n",
              "    <tr>\n",
              "      <th>0</th>\n",
              "      <td>RUNQPNJF</td>\n",
              "      <td>./train/RUNQPNJF.ogg</td>\n",
              "      <td>1</td>\n",
              "    </tr>\n",
              "    <tr>\n",
              "      <th>1</th>\n",
              "      <td>JFAWUOGJ</td>\n",
              "      <td>./train/JFAWUOGJ.ogg</td>\n",
              "      <td>0</td>\n",
              "    </tr>\n",
              "    <tr>\n",
              "      <th>2</th>\n",
              "      <td>RDKEKEVX</td>\n",
              "      <td>./train/RDKEKEVX.ogg</td>\n",
              "      <td>1</td>\n",
              "    </tr>\n",
              "    <tr>\n",
              "      <th>3</th>\n",
              "      <td>QYHJDOFK</td>\n",
              "      <td>./train/QYHJDOFK.ogg</td>\n",
              "      <td>1</td>\n",
              "    </tr>\n",
              "    <tr>\n",
              "      <th>4</th>\n",
              "      <td>RSPQNHAO</td>\n",
              "      <td>./train/RSPQNHAO.ogg</td>\n",
              "      <td>1</td>\n",
              "    </tr>\n",
              "  </tbody>\n",
              "</table>\n",
              "</div>\n",
              "    <div class=\"colab-df-buttons\">\n",
              "\n",
              "  <div class=\"colab-df-container\">\n",
              "    <button class=\"colab-df-convert\" onclick=\"convertToInteractive('df-dae127e3-8224-4073-b654-15b6934779a6')\"\n",
              "            title=\"Convert this dataframe to an interactive table.\"\n",
              "            style=\"display:none;\">\n",
              "\n",
              "  <svg xmlns=\"http://www.w3.org/2000/svg\" height=\"24px\" viewBox=\"0 -960 960 960\">\n",
              "    <path d=\"M120-120v-720h720v720H120Zm60-500h600v-160H180v160Zm220 220h160v-160H400v160Zm0 220h160v-160H400v160ZM180-400h160v-160H180v160Zm440 0h160v-160H620v160ZM180-180h160v-160H180v160Zm440 0h160v-160H620v160Z\"/>\n",
              "  </svg>\n",
              "    </button>\n",
              "\n",
              "  <style>\n",
              "    .colab-df-container {\n",
              "      display:flex;\n",
              "      gap: 12px;\n",
              "    }\n",
              "\n",
              "    .colab-df-convert {\n",
              "      background-color: #E8F0FE;\n",
              "      border: none;\n",
              "      border-radius: 50%;\n",
              "      cursor: pointer;\n",
              "      display: none;\n",
              "      fill: #1967D2;\n",
              "      height: 32px;\n",
              "      padding: 0 0 0 0;\n",
              "      width: 32px;\n",
              "    }\n",
              "\n",
              "    .colab-df-convert:hover {\n",
              "      background-color: #E2EBFA;\n",
              "      box-shadow: 0px 1px 2px rgba(60, 64, 67, 0.3), 0px 1px 3px 1px rgba(60, 64, 67, 0.15);\n",
              "      fill: #174EA6;\n",
              "    }\n",
              "\n",
              "    .colab-df-buttons div {\n",
              "      margin-bottom: 4px;\n",
              "    }\n",
              "\n",
              "    [theme=dark] .colab-df-convert {\n",
              "      background-color: #3B4455;\n",
              "      fill: #D2E3FC;\n",
              "    }\n",
              "\n",
              "    [theme=dark] .colab-df-convert:hover {\n",
              "      background-color: #434B5C;\n",
              "      box-shadow: 0px 1px 3px 1px rgba(0, 0, 0, 0.15);\n",
              "      filter: drop-shadow(0px 1px 2px rgba(0, 0, 0, 0.3));\n",
              "      fill: #FFFFFF;\n",
              "    }\n",
              "  </style>\n",
              "\n",
              "    <script>\n",
              "      const buttonEl =\n",
              "        document.querySelector('#df-dae127e3-8224-4073-b654-15b6934779a6 button.colab-df-convert');\n",
              "      buttonEl.style.display =\n",
              "        google.colab.kernel.accessAllowed ? 'block' : 'none';\n",
              "\n",
              "      async function convertToInteractive(key) {\n",
              "        const element = document.querySelector('#df-dae127e3-8224-4073-b654-15b6934779a6');\n",
              "        const dataTable =\n",
              "          await google.colab.kernel.invokeFunction('convertToInteractive',\n",
              "                                                    [key], {});\n",
              "        if (!dataTable) return;\n",
              "\n",
              "        const docLinkHtml = 'Like what you see? Visit the ' +\n",
              "          '<a target=\"_blank\" href=https://colab.research.google.com/notebooks/data_table.ipynb>data table notebook</a>'\n",
              "          + ' to learn more about interactive tables.';\n",
              "        element.innerHTML = '';\n",
              "        dataTable['output_type'] = 'display_data';\n",
              "        await google.colab.output.renderOutput(dataTable, element);\n",
              "        const docLink = document.createElement('div');\n",
              "        docLink.innerHTML = docLinkHtml;\n",
              "        element.appendChild(docLink);\n",
              "      }\n",
              "    </script>\n",
              "  </div>\n",
              "\n",
              "\n",
              "<div id=\"df-bfb2f859-1d47-4cc3-b9f0-cebb91206050\">\n",
              "  <button class=\"colab-df-quickchart\" onclick=\"quickchart('df-bfb2f859-1d47-4cc3-b9f0-cebb91206050')\"\n",
              "            title=\"Suggest charts\"\n",
              "            style=\"display:none;\">\n",
              "\n",
              "<svg xmlns=\"http://www.w3.org/2000/svg\" height=\"24px\"viewBox=\"0 0 24 24\"\n",
              "     width=\"24px\">\n",
              "    <g>\n",
              "        <path d=\"M19 3H5c-1.1 0-2 .9-2 2v14c0 1.1.9 2 2 2h14c1.1 0 2-.9 2-2V5c0-1.1-.9-2-2-2zM9 17H7v-7h2v7zm4 0h-2V7h2v10zm4 0h-2v-4h2v4z\"/>\n",
              "    </g>\n",
              "</svg>\n",
              "  </button>\n",
              "\n",
              "<style>\n",
              "  .colab-df-quickchart {\n",
              "      --bg-color: #E8F0FE;\n",
              "      --fill-color: #1967D2;\n",
              "      --hover-bg-color: #E2EBFA;\n",
              "      --hover-fill-color: #174EA6;\n",
              "      --disabled-fill-color: #AAA;\n",
              "      --disabled-bg-color: #DDD;\n",
              "  }\n",
              "\n",
              "  [theme=dark] .colab-df-quickchart {\n",
              "      --bg-color: #3B4455;\n",
              "      --fill-color: #D2E3FC;\n",
              "      --hover-bg-color: #434B5C;\n",
              "      --hover-fill-color: #FFFFFF;\n",
              "      --disabled-bg-color: #3B4455;\n",
              "      --disabled-fill-color: #666;\n",
              "  }\n",
              "\n",
              "  .colab-df-quickchart {\n",
              "    background-color: var(--bg-color);\n",
              "    border: none;\n",
              "    border-radius: 50%;\n",
              "    cursor: pointer;\n",
              "    display: none;\n",
              "    fill: var(--fill-color);\n",
              "    height: 32px;\n",
              "    padding: 0;\n",
              "    width: 32px;\n",
              "  }\n",
              "\n",
              "  .colab-df-quickchart:hover {\n",
              "    background-color: var(--hover-bg-color);\n",
              "    box-shadow: 0 1px 2px rgba(60, 64, 67, 0.3), 0 1px 3px 1px rgba(60, 64, 67, 0.15);\n",
              "    fill: var(--button-hover-fill-color);\n",
              "  }\n",
              "\n",
              "  .colab-df-quickchart-complete:disabled,\n",
              "  .colab-df-quickchart-complete:disabled:hover {\n",
              "    background-color: var(--disabled-bg-color);\n",
              "    fill: var(--disabled-fill-color);\n",
              "    box-shadow: none;\n",
              "  }\n",
              "\n",
              "  .colab-df-spinner {\n",
              "    border: 2px solid var(--fill-color);\n",
              "    border-color: transparent;\n",
              "    border-bottom-color: var(--fill-color);\n",
              "    animation:\n",
              "      spin 1s steps(1) infinite;\n",
              "  }\n",
              "\n",
              "  @keyframes spin {\n",
              "    0% {\n",
              "      border-color: transparent;\n",
              "      border-bottom-color: var(--fill-color);\n",
              "      border-left-color: var(--fill-color);\n",
              "    }\n",
              "    20% {\n",
              "      border-color: transparent;\n",
              "      border-left-color: var(--fill-color);\n",
              "      border-top-color: var(--fill-color);\n",
              "    }\n",
              "    30% {\n",
              "      border-color: transparent;\n",
              "      border-left-color: var(--fill-color);\n",
              "      border-top-color: var(--fill-color);\n",
              "      border-right-color: var(--fill-color);\n",
              "    }\n",
              "    40% {\n",
              "      border-color: transparent;\n",
              "      border-right-color: var(--fill-color);\n",
              "      border-top-color: var(--fill-color);\n",
              "    }\n",
              "    60% {\n",
              "      border-color: transparent;\n",
              "      border-right-color: var(--fill-color);\n",
              "    }\n",
              "    80% {\n",
              "      border-color: transparent;\n",
              "      border-right-color: var(--fill-color);\n",
              "      border-bottom-color: var(--fill-color);\n",
              "    }\n",
              "    90% {\n",
              "      border-color: transparent;\n",
              "      border-bottom-color: var(--fill-color);\n",
              "    }\n",
              "  }\n",
              "</style>\n",
              "\n",
              "  <script>\n",
              "    async function quickchart(key) {\n",
              "      const quickchartButtonEl =\n",
              "        document.querySelector('#' + key + ' button');\n",
              "      quickchartButtonEl.disabled = true;  // To prevent multiple clicks.\n",
              "      quickchartButtonEl.classList.add('colab-df-spinner');\n",
              "      try {\n",
              "        const charts = await google.colab.kernel.invokeFunction(\n",
              "            'suggestCharts', [key], {});\n",
              "      } catch (error) {\n",
              "        console.error('Error during call to suggestCharts:', error);\n",
              "      }\n",
              "      quickchartButtonEl.classList.remove('colab-df-spinner');\n",
              "      quickchartButtonEl.classList.add('colab-df-quickchart-complete');\n",
              "    }\n",
              "    (() => {\n",
              "      let quickchartButtonEl =\n",
              "        document.querySelector('#df-bfb2f859-1d47-4cc3-b9f0-cebb91206050 button');\n",
              "      quickchartButtonEl.style.display =\n",
              "        google.colab.kernel.accessAllowed ? 'block' : 'none';\n",
              "    })();\n",
              "  </script>\n",
              "</div>\n",
              "\n",
              "    </div>\n",
              "  </div>\n"
            ],
            "application/vnd.google.colaboratory.intrinsic+json": {
              "type": "dataframe",
              "variable_name": "train",
              "summary": "{\n  \"name\": \"train\",\n  \"rows\": 55438,\n  \"fields\": [\n    {\n      \"column\": \"id\",\n      \"properties\": {\n        \"dtype\": \"string\",\n        \"num_unique_values\": 55438,\n        \"samples\": [\n          \"PUOXNOKJ\",\n          \"GXOIPDJP\",\n          \"FOEQKPPR\"\n        ],\n        \"semantic_type\": \"\",\n        \"description\": \"\"\n      }\n    },\n    {\n      \"column\": \"path\",\n      \"properties\": {\n        \"dtype\": \"string\",\n        \"num_unique_values\": 55438,\n        \"samples\": [\n          \"./train/PUOXNOKJ.ogg\",\n          \"./train/GXOIPDJP.ogg\",\n          \"./train/FOEQKPPR.ogg\"\n        ],\n        \"semantic_type\": \"\",\n        \"description\": \"\"\n      }\n    },\n    {\n      \"column\": \"label\",\n      \"properties\": {\n        \"dtype\": \"number\",\n        \"std\": 0,\n        \"min\": 0,\n        \"max\": 1,\n        \"num_unique_values\": 2,\n        \"samples\": [\n          0,\n          1\n        ],\n        \"semantic_type\": \"\",\n        \"description\": \"\"\n      }\n    }\n  ]\n}"
            }
          },
          "metadata": {},
          "execution_count": 125
        }
      ]
    },
    {
      "cell_type": "code",
      "source": [
        "train_paths, valid_paths, train_labels, valid_labels = train_test_split(\n",
        "    train[\"path\"].values, train[\"label\"].values, test_size=0.2, stratify=train[\"label\"]\n",
        ")\n",
        "\n",
        "train_dataset = AudioDataset(train_paths, train_labels)\n",
        "valid_dataset = AudioDataset(valid_paths, valid_labels)\n",
        "\n",
        "train_dataloader = DataLoader(train_dataset, batch_size=32, shuffle=True)\n",
        "valid_dataloader = DataLoader(valid_dataset, batch_size=32, shuffle=False)"
      ],
      "metadata": {
        "id": "TMubx8kTNsFH"
      },
      "execution_count": null,
      "outputs": []
    },
    {
      "cell_type": "code",
      "source": [
        "class ConvBlock(nn.Module):\n",
        "    def __init__(self, in_channels, out_channels, kernel_size=3, stride=1, padding=1):\n",
        "        super().__init__()\n",
        "        self.conv = nn.Conv2d(in_channels, out_channels, kernel_size, stride, padding)\n",
        "        self.bn = nn.BatchNorm2d(out_channels)\n",
        "        self.relu = nn.ReLU()\n",
        "\n",
        "    def forward(self, x):\n",
        "        x = self.conv(x)\n",
        "        x = self.bn(x)\n",
        "        x = self.relu(x)\n",
        "\n",
        "        return x\n",
        "\n",
        "\n",
        "class ResBlock(nn.Module):\n",
        "    def __init__(self, in_channels, out_channels, stride=1):\n",
        "        super().__init__()\n",
        "        self.conv1 = ConvBlock(in_channels, out_channels, stride=stride)\n",
        "        self.conv2 = ConvBlock(out_channels, out_channels)\n",
        "\n",
        "        if stride != 1 or in_channels != out_channels:\n",
        "            self.shortcut = nn.Sequential(\n",
        "                nn.Conv2d(in_channels, out_channels, kernel_size=1, stride=stride, bias=False),\n",
        "                nn.BatchNorm2d(out_channels)\n",
        "            )\n",
        "        else:\n",
        "            self.shortcut = nn.Identity()\n",
        "\n",
        "        self.relu = nn.ReLU()\n",
        "\n",
        "    def forward(self, x):\n",
        "        shortcut = self.shortcut(x)\n",
        "        x = self.conv1(x)\n",
        "        x = self.conv2(x)\n",
        "        x = x + shortcut\n",
        "        x = self.relu(x)\n",
        "        return x"
      ],
      "metadata": {
        "id": "2_Sn6C5JO6AX"
      },
      "execution_count": null,
      "outputs": []
    },
    {
      "cell_type": "code",
      "source": [
        "class AudioClassifier(nn.Module):\n",
        "    def __init__(self, n_classes):\n",
        "        super().__init__()\n",
        "        self.conv1 = ConvBlock(1, 16)\n",
        "        self.res1 = ResBlock(16, 16)\n",
        "        self.res2 = ResBlock(16, 32, stride=2)\n",
        "        self.res3 = ResBlock(32, 32)\n",
        "        self.res4 = ResBlock(32, 64, stride=2)\n",
        "        self.res5 = ResBlock(64, 64)\n",
        "        self.avgpool = nn.AdaptiveAvgPool2d((1, 1))\n",
        "        self.fc1 = nn.Linear(64, 256)\n",
        "        self.fc2 = nn.Linear(256, n_classes)\n",
        "        self.relu = nn.ReLU()\n",
        "\n",
        "    def forward(self, x):\n",
        "        x = self.conv1(x)\n",
        "        x = self.res1(x)\n",
        "        x = self.res2(x)\n",
        "        x = self.res3(x)\n",
        "        x = self.res4(x)\n",
        "        x = self.res5(x)\n",
        "        x = self.avgpool(x)\n",
        "        x = torch.flatten(x, 1)\n",
        "        x = self.fc1(x)\n",
        "        x = self.relu(x)\n",
        "        x = self.fc2(x)\n",
        "        return x"
      ],
      "metadata": {
        "id": "Gxic48kdO7gT"
      },
      "execution_count": null,
      "outputs": []
    },
    {
      "cell_type": "code",
      "source": [
        "model = AudioClassifier(2).to(device)\n",
        "\n",
        "summary(model, input_size=(1, 128, 64))"
      ],
      "metadata": {
        "colab": {
          "base_uri": "https://localhost:8080/"
        },
        "id": "J2bUofVLO-DX",
        "outputId": "4e133644-f268-4bbc-a08f-0bca8db85489"
      },
      "execution_count": null,
      "outputs": [
        {
          "output_type": "stream",
          "name": "stdout",
          "text": [
            "----------------------------------------------------------------\n",
            "        Layer (type)               Output Shape         Param #\n",
            "================================================================\n",
            "            Conv2d-1          [-1, 16, 128, 64]             160\n",
            "       BatchNorm2d-2          [-1, 16, 128, 64]              32\n",
            "              ReLU-3          [-1, 16, 128, 64]               0\n",
            "         ConvBlock-4          [-1, 16, 128, 64]               0\n",
            "          Identity-5          [-1, 16, 128, 64]               0\n",
            "            Conv2d-6          [-1, 16, 128, 64]           2,320\n",
            "       BatchNorm2d-7          [-1, 16, 128, 64]              32\n",
            "              ReLU-8          [-1, 16, 128, 64]               0\n",
            "         ConvBlock-9          [-1, 16, 128, 64]               0\n",
            "           Conv2d-10          [-1, 16, 128, 64]           2,320\n",
            "      BatchNorm2d-11          [-1, 16, 128, 64]              32\n",
            "             ReLU-12          [-1, 16, 128, 64]               0\n",
            "        ConvBlock-13          [-1, 16, 128, 64]               0\n",
            "             ReLU-14          [-1, 16, 128, 64]               0\n",
            "         ResBlock-15          [-1, 16, 128, 64]               0\n",
            "           Conv2d-16           [-1, 32, 64, 32]             512\n",
            "      BatchNorm2d-17           [-1, 32, 64, 32]              64\n",
            "           Conv2d-18           [-1, 32, 64, 32]           4,640\n",
            "      BatchNorm2d-19           [-1, 32, 64, 32]              64\n",
            "             ReLU-20           [-1, 32, 64, 32]               0\n",
            "        ConvBlock-21           [-1, 32, 64, 32]               0\n",
            "           Conv2d-22           [-1, 32, 64, 32]           9,248\n",
            "      BatchNorm2d-23           [-1, 32, 64, 32]              64\n",
            "             ReLU-24           [-1, 32, 64, 32]               0\n",
            "        ConvBlock-25           [-1, 32, 64, 32]               0\n",
            "             ReLU-26           [-1, 32, 64, 32]               0\n",
            "         ResBlock-27           [-1, 32, 64, 32]               0\n",
            "         Identity-28           [-1, 32, 64, 32]               0\n",
            "           Conv2d-29           [-1, 32, 64, 32]           9,248\n",
            "      BatchNorm2d-30           [-1, 32, 64, 32]              64\n",
            "             ReLU-31           [-1, 32, 64, 32]               0\n",
            "        ConvBlock-32           [-1, 32, 64, 32]               0\n",
            "           Conv2d-33           [-1, 32, 64, 32]           9,248\n",
            "      BatchNorm2d-34           [-1, 32, 64, 32]              64\n",
            "             ReLU-35           [-1, 32, 64, 32]               0\n",
            "        ConvBlock-36           [-1, 32, 64, 32]               0\n",
            "             ReLU-37           [-1, 32, 64, 32]               0\n",
            "         ResBlock-38           [-1, 32, 64, 32]               0\n",
            "           Conv2d-39           [-1, 64, 32, 16]           2,048\n",
            "      BatchNorm2d-40           [-1, 64, 32, 16]             128\n",
            "           Conv2d-41           [-1, 64, 32, 16]          18,496\n",
            "      BatchNorm2d-42           [-1, 64, 32, 16]             128\n",
            "             ReLU-43           [-1, 64, 32, 16]               0\n",
            "        ConvBlock-44           [-1, 64, 32, 16]               0\n",
            "           Conv2d-45           [-1, 64, 32, 16]          36,928\n",
            "      BatchNorm2d-46           [-1, 64, 32, 16]             128\n",
            "             ReLU-47           [-1, 64, 32, 16]               0\n",
            "        ConvBlock-48           [-1, 64, 32, 16]               0\n",
            "             ReLU-49           [-1, 64, 32, 16]               0\n",
            "         ResBlock-50           [-1, 64, 32, 16]               0\n",
            "         Identity-51           [-1, 64, 32, 16]               0\n",
            "           Conv2d-52           [-1, 64, 32, 16]          36,928\n",
            "      BatchNorm2d-53           [-1, 64, 32, 16]             128\n",
            "             ReLU-54           [-1, 64, 32, 16]               0\n",
            "        ConvBlock-55           [-1, 64, 32, 16]               0\n",
            "           Conv2d-56           [-1, 64, 32, 16]          36,928\n",
            "      BatchNorm2d-57           [-1, 64, 32, 16]             128\n",
            "             ReLU-58           [-1, 64, 32, 16]               0\n",
            "        ConvBlock-59           [-1, 64, 32, 16]               0\n",
            "             ReLU-60           [-1, 64, 32, 16]               0\n",
            "         ResBlock-61           [-1, 64, 32, 16]               0\n",
            "AdaptiveAvgPool2d-62             [-1, 64, 1, 1]               0\n",
            "           Linear-63                  [-1, 256]          16,640\n",
            "             ReLU-64                  [-1, 256]               0\n",
            "           Linear-65                    [-1, 2]             514\n",
            "================================================================\n",
            "Total params: 187,234\n",
            "Trainable params: 187,234\n",
            "Non-trainable params: 0\n",
            "----------------------------------------------------------------\n",
            "Input size (MB): 0.03\n",
            "Forward/backward pass size (MB): 32.25\n",
            "Params size (MB): 0.71\n",
            "Estimated Total Size (MB): 33.00\n",
            "----------------------------------------------------------------\n"
          ]
        }
      ]
    },
    {
      "cell_type": "code",
      "source": [
        "def run_epoch(model, dataloader, optimizer, criterion, train=True):\n",
        "    total_loss = 0\n",
        "    count = 0\n",
        "    correct = 0\n",
        "\n",
        "    if train:\n",
        "        model.train()\n",
        "    else:\n",
        "        model.eval()\n",
        "\n",
        "    for data, labels in tqdm(dataloader, desc=\"Training\" if train else \"Evaluating\"):\n",
        "        data = data.to(device)\n",
        "        labels = labels.to(device)\n",
        "\n",
        "        optimizer.zero_grad()\n",
        "        outputs = model(data)\n",
        "        loss = criterion(outputs, labels)\n",
        "\n",
        "        if train:\n",
        "            loss.backward()\n",
        "            optimizer.step()\n",
        "\n",
        "        total_loss += loss.item()\n",
        "        count += len(labels) * 2\n",
        "        correct += ((outputs > 0).float() == labels).sum().item()\n",
        "\n",
        "    return total_loss / count, correct / count"
      ],
      "metadata": {
        "id": "j5epqFg0R3x9"
      },
      "execution_count": null,
      "outputs": []
    },
    {
      "cell_type": "code",
      "source": [
        "criterion = nn.BCEWithLogitsLoss()\n",
        "optimizer = optim.Adam(model.parameters(), lr=LR)\n",
        "\n",
        "train_losses = []\n",
        "train_accuracies = []\n",
        "valid_losses = []\n",
        "valid_accuracies = []\n",
        "\n",
        "best_accuracy = 0\n",
        "best_model = None\n",
        "\n",
        "for epoch in range(EPOCH):\n",
        "    print(f\"Epoch {epoch}\")\n",
        "\n",
        "    train_loss, train_accuracy = run_epoch(model, train_dataloader, optimizer, criterion, train=True)\n",
        "\n",
        "    train_losses.append(train_loss)\n",
        "    train_accuracies.append(train_accuracy)\n",
        "\n",
        "    print(f\"Train Loss: {train_loss:.4f}\")\n",
        "    print(f\"Train Accuracy: {train_accuracy:.4f}\")\n",
        "\n",
        "    valid_loss, valid_accuracy = run_epoch(model, valid_dataloader, optimizer, criterion, train=False)\n",
        "    valid_losses.append(valid_loss)\n",
        "    valid_accuracies.append(valid_accuracy)\n",
        "\n",
        "    print(f\"Test Loss: {valid_loss:.4f}\")\n",
        "    print(f\"Test Accuracy: {valid_accuracy:.4f}\")\n",
        "\n",
        "    if valid_accuracy > best_accuracy:\n",
        "        best_accuracy = valid_accuracy\n",
        "        best_model = model"
      ],
      "metadata": {
        "colab": {
          "base_uri": "https://localhost:8080/"
        },
        "id": "FrCFzyNPPoYw",
        "outputId": "3da4a0c4-957c-4699-ef90-1eb325eca245"
      },
      "execution_count": null,
      "outputs": [
        {
          "output_type": "stream",
          "name": "stdout",
          "text": [
            "Epoch 0\n"
          ]
        },
        {
          "output_type": "stream",
          "name": "stderr",
          "text": [
            "Training: 100%|██████████| 1386/1386 [17:34<00:00,  1.31it/s]\n"
          ]
        },
        {
          "output_type": "stream",
          "name": "stdout",
          "text": [
            "Train Loss: 0.0055\n",
            "Train Accuracy: 0.8295\n"
          ]
        },
        {
          "output_type": "stream",
          "name": "stderr",
          "text": [
            "Evaluating: 100%|██████████| 347/347 [04:12<00:00,  1.38it/s]\n"
          ]
        },
        {
          "output_type": "stream",
          "name": "stdout",
          "text": [
            "Test Loss: 0.0075\n",
            "Test Accuracy: 0.7799\n",
            "Epoch 1\n"
          ]
        },
        {
          "output_type": "stream",
          "name": "stderr",
          "text": [
            "Training: 100%|██████████| 1386/1386 [17:27<00:00,  1.32it/s]\n"
          ]
        },
        {
          "output_type": "stream",
          "name": "stdout",
          "text": [
            "Train Loss: 0.0034\n",
            "Train Accuracy: 0.9032\n"
          ]
        },
        {
          "output_type": "stream",
          "name": "stderr",
          "text": [
            "Evaluating: 100%|██████████| 347/347 [04:05<00:00,  1.41it/s]\n"
          ]
        },
        {
          "output_type": "stream",
          "name": "stdout",
          "text": [
            "Test Loss: 0.0034\n",
            "Test Accuracy: 0.9010\n",
            "Epoch 2\n"
          ]
        },
        {
          "output_type": "stream",
          "name": "stderr",
          "text": [
            "Training: 100%|██████████| 1386/1386 [18:41<00:00,  1.24it/s]\n"
          ]
        },
        {
          "output_type": "stream",
          "name": "stdout",
          "text": [
            "Train Loss: 0.0030\n",
            "Train Accuracy: 0.9175\n"
          ]
        },
        {
          "output_type": "stream",
          "name": "stderr",
          "text": [
            "Evaluating: 100%|██████████| 347/347 [04:26<00:00,  1.30it/s]\n"
          ]
        },
        {
          "output_type": "stream",
          "name": "stdout",
          "text": [
            "Test Loss: 0.0032\n",
            "Test Accuracy: 0.9104\n",
            "Epoch 3\n"
          ]
        },
        {
          "output_type": "stream",
          "name": "stderr",
          "text": [
            "Training: 100%|██████████| 1386/1386 [18:13<00:00,  1.27it/s]\n"
          ]
        },
        {
          "output_type": "stream",
          "name": "stdout",
          "text": [
            "Train Loss: 0.0028\n",
            "Train Accuracy: 0.9241\n"
          ]
        },
        {
          "output_type": "stream",
          "name": "stderr",
          "text": [
            "Evaluating: 100%|██████████| 347/347 [04:05<00:00,  1.41it/s]\n"
          ]
        },
        {
          "output_type": "stream",
          "name": "stdout",
          "text": [
            "Test Loss: 0.0057\n",
            "Test Accuracy: 0.8408\n",
            "Epoch 4\n"
          ]
        },
        {
          "output_type": "stream",
          "name": "stderr",
          "text": [
            "Training: 100%|██████████| 1386/1386 [18:11<00:00,  1.27it/s]\n"
          ]
        },
        {
          "output_type": "stream",
          "name": "stdout",
          "text": [
            "Train Loss: 0.0026\n",
            "Train Accuracy: 0.9314\n"
          ]
        },
        {
          "output_type": "stream",
          "name": "stderr",
          "text": [
            "Evaluating: 100%|██████████| 347/347 [04:09<00:00,  1.39it/s]\n"
          ]
        },
        {
          "output_type": "stream",
          "name": "stdout",
          "text": [
            "Test Loss: 0.0025\n",
            "Test Accuracy: 0.9325\n",
            "Epoch 5\n"
          ]
        },
        {
          "output_type": "stream",
          "name": "stderr",
          "text": [
            "Training: 100%|██████████| 1386/1386 [18:02<00:00,  1.28it/s]\n"
          ]
        },
        {
          "output_type": "stream",
          "name": "stdout",
          "text": [
            "Train Loss: 0.0024\n",
            "Train Accuracy: 0.9361\n"
          ]
        },
        {
          "output_type": "stream",
          "name": "stderr",
          "text": [
            "Evaluating: 100%|██████████| 347/347 [04:13<00:00,  1.37it/s]\n"
          ]
        },
        {
          "output_type": "stream",
          "name": "stdout",
          "text": [
            "Test Loss: 0.0021\n",
            "Test Accuracy: 0.9449\n",
            "Epoch 6\n"
          ]
        },
        {
          "output_type": "stream",
          "name": "stderr",
          "text": [
            "Training: 100%|██████████| 1386/1386 [18:08<00:00,  1.27it/s]\n"
          ]
        },
        {
          "output_type": "stream",
          "name": "stdout",
          "text": [
            "Train Loss: 0.0023\n",
            "Train Accuracy: 0.9375\n"
          ]
        },
        {
          "output_type": "stream",
          "name": "stderr",
          "text": [
            "Evaluating: 100%|██████████| 347/347 [04:15<00:00,  1.36it/s]\n"
          ]
        },
        {
          "output_type": "stream",
          "name": "stdout",
          "text": [
            "Test Loss: 0.0025\n",
            "Test Accuracy: 0.9313\n",
            "Epoch 7\n"
          ]
        },
        {
          "output_type": "stream",
          "name": "stderr",
          "text": [
            "Training: 100%|██████████| 1386/1386 [18:38<00:00,  1.24it/s]\n"
          ]
        },
        {
          "output_type": "stream",
          "name": "stdout",
          "text": [
            "Train Loss: 0.0022\n",
            "Train Accuracy: 0.9417\n"
          ]
        },
        {
          "output_type": "stream",
          "name": "stderr",
          "text": [
            "Evaluating: 100%|██████████| 347/347 [04:17<00:00,  1.35it/s]\n"
          ]
        },
        {
          "output_type": "stream",
          "name": "stdout",
          "text": [
            "Test Loss: 0.0035\n",
            "Test Accuracy: 0.9002\n",
            "Epoch 8\n"
          ]
        },
        {
          "output_type": "stream",
          "name": "stderr",
          "text": [
            "Training: 100%|██████████| 1386/1386 [18:04<00:00,  1.28it/s]\n"
          ]
        },
        {
          "output_type": "stream",
          "name": "stdout",
          "text": [
            "Train Loss: 0.0021\n",
            "Train Accuracy: 0.9430\n"
          ]
        },
        {
          "output_type": "stream",
          "name": "stderr",
          "text": [
            "Evaluating: 100%|██████████| 347/347 [04:05<00:00,  1.41it/s]\n"
          ]
        },
        {
          "output_type": "stream",
          "name": "stdout",
          "text": [
            "Test Loss: 0.0017\n",
            "Test Accuracy: 0.9566\n",
            "Epoch 9\n"
          ]
        },
        {
          "output_type": "stream",
          "name": "stderr",
          "text": [
            "Training: 100%|██████████| 1386/1386 [17:39<00:00,  1.31it/s]\n"
          ]
        },
        {
          "output_type": "stream",
          "name": "stdout",
          "text": [
            "Train Loss: 0.0020\n",
            "Train Accuracy: 0.9470\n"
          ]
        },
        {
          "output_type": "stream",
          "name": "stderr",
          "text": [
            "Evaluating: 100%|██████████| 347/347 [04:09<00:00,  1.39it/s]"
          ]
        },
        {
          "output_type": "stream",
          "name": "stdout",
          "text": [
            "Test Loss: 0.0019\n",
            "Test Accuracy: 0.9491\n"
          ]
        },
        {
          "output_type": "stream",
          "name": "stderr",
          "text": [
            "\n"
          ]
        }
      ]
    },
    {
      "cell_type": "code",
      "source": [
        "epochs_range = range(EPOCH)\n",
        "plt.figure(figsize=(12, 5))\n",
        "\n",
        "plt.subplot(1, 2, 1)\n",
        "plt.plot(epochs_range, train_losses, label='Train Loss')\n",
        "plt.plot(epochs_range, valid_losses, label='Test Loss')\n",
        "plt.xlabel('Epochs')\n",
        "plt.ylabel('Loss')\n",
        "plt.title('Loss over Epochs')\n",
        "plt.legend()\n",
        "\n",
        "plt.subplot(1, 2, 2)\n",
        "plt.plot(epochs_range, train_accuracies, label='Train Accuracy')\n",
        "plt.plot(epochs_range, valid_accuracies, label='Test Accuracy')\n",
        "plt.xlabel('Epochs')\n",
        "plt.ylabel('Accuracy')\n",
        "plt.title('Accuracy over Epochs')\n",
        "plt.legend()\n",
        "\n",
        "plt.tight_layout()\n",
        "plt.show()"
      ],
      "metadata": {
        "colab": {
          "base_uri": "https://localhost:8080/",
          "height": 507
        },
        "id": "hPeWDBmEcV09",
        "outputId": "b4524e1e-5aaa-4406-9bed-b771f65ab14b"
      },
      "execution_count": null,
      "outputs": [
        {
          "output_type": "display_data",
          "data": {
            "text/plain": [
              "<Figure size 1200x500 with 2 Axes>"
            ],
            "image/png": "[encoded data removed]"
          },
          "metadata": {}
        }
      ]
    },
    {
      "cell_type": "code",
      "source": [
        "torch.save(best_model.state_dict(), \"merged_mel_resnet_v2.pth\")"
      ],
      "metadata": {
        "id": "t7vY2lFNNcid"
      },
      "execution_count": null,
      "outputs": []
    },
    {
      "cell_type": "code",
      "source": [
        "class ChunkedAudioDataset(Dataset):\n",
        "    def __init__(self, file_paths, shape=(128, 64), fixed_len=32000):\n",
        "        self.file_paths = file_paths\n",
        "        self.shape = shape\n",
        "        self.fixed_len = fixed_len\n",
        "        self.length = len(file_paths)\n",
        "\n",
        "    def __len__(self):\n",
        "        return self.length\n",
        "\n",
        "    def __getitem__(self, index):\n",
        "        raw, _ = librosa.load(self.file_paths[index], sr=SR)\n",
        "        n_mels = self.shape[0]\n",
        "        hop_length = self.fixed_len // self.shape[1] + 1\n",
        "\n",
        "        data = []\n",
        "        for chunk in range(5):\n",
        "            start = chunk * self.fixed_len\n",
        "            raw_chunk = raw[start:start + self.fixed_len]\n",
        "            data_chunk = librosa.feature.melspectrogram(y=raw_chunk, n_mels=n_mels, hop_length=hop_length)\n",
        "            data_chunk = librosa.power_to_db(data_chunk, ref=np.max)\n",
        "\n",
        "            mean = np.mean(data_chunk)\n",
        "            std = np.std(data_chunk)\n",
        "            if std != 0:\n",
        "                data_chunk = (data_chunk - mean) / std\n",
        "            else:\n",
        "                data_chunk = data_chunk - mean\n",
        "            data.append(data_chunk)\n",
        "\n",
        "        return torch.tensor(np.array(data)).unsqueeze(1)"
      ],
      "metadata": {
        "id": "jJBWuCHgfyFo"
      },
      "execution_count": null,
      "outputs": []
    },
    {
      "cell_type": "code",
      "source": [
        "test = pd.read_csv(\"test.csv\")\n",
        "test_dataset = ChunkedAudioDataset(test[\"path\"].values)\n",
        "test_dataloader = DataLoader(test_dataset, batch_size=1, shuffle=False)"
      ],
      "metadata": {
        "id": "8Ibnjek7ii6m"
      },
      "execution_count": null,
      "outputs": []
    },
    {
      "cell_type": "code",
      "source": [
        "best_model.eval()\n",
        "preds = []\n",
        "\n",
        "for data in tqdm(test_dataloader):\n",
        "    data = data.squeeze(0)\n",
        "    data = data.to(device)\n",
        "\n",
        "    outputs = best_model(data)\n",
        "    pred = F.sigmoid(outputs).detach().cpu().numpy()\n",
        "    preds.append(pred.tolist())"
      ],
      "metadata": {
        "colab": {
          "base_uri": "https://localhost:8080/"
        },
        "id": "Zz76PZ5viveo",
        "outputId": "9a3cfff1-b3ed-45ba-97f4-daaf83224daa"
      },
      "execution_count": null,
      "outputs": [
        {
          "output_type": "stream",
          "name": "stderr",
          "text": [
            "100%|██████████| 50000/50000 [54:06<00:00, 15.40it/s]\n"
          ]
        }
      ]
    },
    {
      "cell_type": "code",
      "source": [
        "np_preds = np.array(preds)\n",
        "\n",
        "np_preds.shape"
      ],
      "metadata": {
        "colab": {
          "base_uri": "https://localhost:8080/"
        },
        "id": "eNnJQB8DedLq",
        "outputId": "8a96b96c-1500-41ea-8c34-32ed6e8e72f8"
      },
      "execution_count": null,
      "outputs": [
        {
          "output_type": "execute_result",
          "data": {
            "text/plain": [
              "(50000, 5, 2)"
            ]
          },
          "metadata": {},
          "execution_count": 104
        }
      ]
    },
    {
      "cell_type": "code",
      "source": [
        "submit = pd.read_csv(\"sample_submission.csv\")\n",
        "submit.iloc[:, 1:] = np_preds.max(axis=1).tolist()\n",
        "submit.to_csv(\"merged_mel_resnet_v2_max.csv\", index=False)"
      ],
      "metadata": {
        "id": "LWGN5oV2mDDH"
      },
      "execution_count": null,
      "outputs": []
    },
    {
      "cell_type": "code",
      "source": [
        "submit.head()"
      ],
      "metadata": {
        "colab": {
          "base_uri": "https://localhost:8080/",
          "height": 206
        },
        "id": "wIeKg3M9zEYB",
        "outputId": "4fedb110-495c-49ac-a44b-76bb9375ec9f"
      },
      "execution_count": null,
      "outputs": [
        {
          "output_type": "execute_result",
          "data": {
            "text/plain": [
              "           id      fake      real\n",
              "0  TEST_00000  0.212749  0.999933\n",
              "1  TEST_00001  0.054284  0.999977\n",
              "2  TEST_00002  0.052481  0.999965\n",
              "3  TEST_00003  0.974105  0.999939\n",
              "4  TEST_00004  0.100096  0.999997"
            ],
            "text/html": [
              "\n",
              "  <div id=\"df-abbe9640-f99e-486d-8d1f-3ec68d82751d\" class=\"colab-df-container\">\n",
              "    <div>\n",
              "<style scoped>\n",
              "    .dataframe tbody tr th:only-of-type {\n",
              "        vertical-align: middle;\n",
              "    }\n",
              "\n",
              "    .dataframe tbody tr th {\n",
              "        vertical-align: top;\n",
              "    }\n",
              "\n",
              "    .dataframe thead th {\n",
              "        text-align: right;\n",
              "    }\n",
              "</style>\n",
              "<table border=\"1\" class=\"dataframe\">\n",
              "  <thead>\n",
              "    <tr style=\"text-align: right;\">\n",
              "      <th></th>\n",
              "      <th>id</th>\n",
              "      <th>fake</th>\n",
              "      <th>real</th>\n",
              "    </tr>\n",
              "  </thead>\n",
              "  <tbody>\n",
              "    <tr>\n",
              "      <th>0</th>\n",
              "      <td>TEST_00000</td>\n",
              "      <td>0.212749</td>\n",
              "      <td>0.999933</td>\n",
              "    </tr>\n",
              "    <tr>\n",
              "      <th>1</th>\n",
              "      <td>TEST_00001</td>\n",
              "      <td>0.054284</td>\n",
              "      <td>0.999977</td>\n",
              "    </tr>\n",
              "    <tr>\n",
              "      <th>2</th>\n",
              "      <td>TEST_00002</td>\n",
              "      <td>0.052481</td>\n",
              "      <td>0.999965</td>\n",
              "    </tr>\n",
              "    <tr>\n",
              "      <th>3</th>\n",
              "      <td>TEST_00003</td>\n",
              "      <td>0.974105</td>\n",
              "      <td>0.999939</td>\n",
              "    </tr>\n",
              "    <tr>\n",
              "      <th>4</th>\n",
              "      <td>TEST_00004</td>\n",
              "      <td>0.100096</td>\n",
              "      <td>0.999997</td>\n",
              "    </tr>\n",
              "  </tbody>\n",
              "</table>\n",
              "</div>\n",
              "    <div class=\"colab-df-buttons\">\n",
              "\n",
              "  <div class=\"colab-df-container\">\n",
              "    <button class=\"colab-df-convert\" onclick=\"convertToInteractive('df-abbe9640-f99e-486d-8d1f-3ec68d82751d')\"\n",
              "            title=\"Convert this dataframe to an interactive table.\"\n",
              "            style=\"display:none;\">\n",
              "\n",
              "  <svg xmlns=\"http://www.w3.org/2000/svg\" height=\"24px\" viewBox=\"0 -960 960 960\">\n",
              "    <path d=\"M120-120v-720h720v720H120Zm60-500h600v-160H180v160Zm220 220h160v-160H400v160Zm0 220h160v-160H400v160ZM180-400h160v-160H180v160Zm440 0h160v-160H620v160ZM180-180h160v-160H180v160Zm440 0h160v-160H620v160Z\"/>\n",
              "  </svg>\n",
              "    </button>\n",
              "\n",
              "  <style>\n",
              "    .colab-df-container {\n",
              "      display:flex;\n",
              "      gap: 12px;\n",
              "    }\n",
              "\n",
              "    .colab-df-convert {\n",
              "      background-color: #E8F0FE;\n",
              "      border: none;\n",
              "      border-radius: 50%;\n",
              "      cursor: pointer;\n",
              "      display: none;\n",
              "      fill: #1967D2;\n",
              "      height: 32px;\n",
              "      padding: 0 0 0 0;\n",
              "      width: 32px;\n",
              "    }\n",
              "\n",
              "    .colab-df-convert:hover {\n",
              "      background-color: #E2EBFA;\n",
              "      box-shadow: 0px 1px 2px rgba(60, 64, 67, 0.3), 0px 1px 3px 1px rgba(60, 64, 67, 0.15);\n",
              "      fill: #174EA6;\n",
              "    }\n",
              "\n",
              "    .colab-df-buttons div {\n",
              "      margin-bottom: 4px;\n",
              "    }\n",
              "\n",
              "    [theme=dark] .colab-df-convert {\n",
              "      background-color: #3B4455;\n",
              "      fill: #D2E3FC;\n",
              "    }\n",
              "\n",
              "    [theme=dark] .colab-df-convert:hover {\n",
              "      background-color: #434B5C;\n",
              "      box-shadow: 0px 1px 3px 1px rgba(0, 0, 0, 0.15);\n",
              "      filter: drop-shadow(0px 1px 2px rgba(0, 0, 0, 0.3));\n",
              "      fill: #FFFFFF;\n",
              "    }\n",
              "  </style>\n",
              "\n",
              "    <script>\n",
              "      const buttonEl =\n",
              "        document.querySelector('#df-abbe9640-f99e-486d-8d1f-3ec68d82751d button.colab-df-convert');\n",
              "      buttonEl.style.display =\n",
              "        google.colab.kernel.accessAllowed ? 'block' : 'none';\n",
              "\n",
              "      async function convertToInteractive(key) {\n",
              "        const element = document.querySelector('#df-abbe9640-f99e-486d-8d1f-3ec68d82751d');\n",
              "        const dataTable =\n",
              "          await google.colab.kernel.invokeFunction('convertToInteractive',\n",
              "                                                    [key], {});\n",
              "        if (!dataTable) return;\n",
              "\n",
              "        const docLinkHtml = 'Like what you see? Visit the ' +\n",
              "          '<a target=\"_blank\" href=https://colab.research.google.com/notebooks/data_table.ipynb>data table notebook</a>'\n",
              "          + ' to learn more about interactive tables.';\n",
              "        element.innerHTML = '';\n",
              "        dataTable['output_type'] = 'display_data';\n",
              "        await google.colab.output.renderOutput(dataTable, element);\n",
              "        const docLink = document.createElement('div');\n",
              "        docLink.innerHTML = docLinkHtml;\n",
              "        element.appendChild(docLink);\n",
              "      }\n",
              "    </script>\n",
              "  </div>\n",
              "\n",
              "\n",
              "<div id=\"df-b866fa97-34f2-4f35-ac97-16b4b09163d2\">\n",
              "  <button class=\"colab-df-quickchart\" onclick=\"quickchart('df-b866fa97-34f2-4f35-ac97-16b4b09163d2')\"\n",
              "            title=\"Suggest charts\"\n",
              "            style=\"display:none;\">\n",
              "\n",
              "<svg xmlns=\"http://www.w3.org/2000/svg\" height=\"24px\"viewBox=\"0 0 24 24\"\n",
              "     width=\"24px\">\n",
              "    <g>\n",
              "        <path d=\"M19 3H5c-1.1 0-2 .9-2 2v14c0 1.1.9 2 2 2h14c1.1 0 2-.9 2-2V5c0-1.1-.9-2-2-2zM9 17H7v-7h2v7zm4 0h-2V7h2v10zm4 0h-2v-4h2v4z\"/>\n",
              "    </g>\n",
              "</svg>\n",
              "  </button>\n",
              "\n",
              "<style>\n",
              "  .colab-df-quickchart {\n",
              "      --bg-color: #E8F0FE;\n",
              "      --fill-color: #1967D2;\n",
              "      --hover-bg-color: #E2EBFA;\n",
              "      --hover-fill-color: #174EA6;\n",
              "      --disabled-fill-color: #AAA;\n",
              "      --disabled-bg-color: #DDD;\n",
              "  }\n",
              "\n",
              "  [theme=dark] .colab-df-quickchart {\n",
              "      --bg-color: #3B4455;\n",
              "      --fill-color: #D2E3FC;\n",
              "      --hover-bg-color: #434B5C;\n",
              "      --hover-fill-color: #FFFFFF;\n",
              "      --disabled-bg-color: #3B4455;\n",
              "      --disabled-fill-color: #666;\n",
              "  }\n",
              "\n",
              "  .colab-df-quickchart {\n",
              "    background-color: var(--bg-color);\n",
              "    border: none;\n",
              "    border-radius: 50%;\n",
              "    cursor: pointer;\n",
              "    display: none;\n",
              "    fill: var(--fill-color);\n",
              "    height: 32px;\n",
              "    padding: 0;\n",
              "    width: 32px;\n",
              "  }\n",
              "\n",
              "  .colab-df-quickchart:hover {\n",
              "    background-color: var(--hover-bg-color);\n",
              "    box-shadow: 0 1px 2px rgba(60, 64, 67, 0.3), 0 1px 3px 1px rgba(60, 64, 67, 0.15);\n",
              "    fill: var(--button-hover-fill-color);\n",
              "  }\n",
              "\n",
              "  .colab-df-quickchart-complete:disabled,\n",
              "  .colab-df-quickchart-complete:disabled:hover {\n",
              "    background-color: var(--disabled-bg-color);\n",
              "    fill: var(--disabled-fill-color);\n",
              "    box-shadow: none;\n",
              "  }\n",
              "\n",
              "  .colab-df-spinner {\n",
              "    border: 2px solid var(--fill-color);\n",
              "    border-color: transparent;\n",
              "    border-bottom-color: var(--fill-color);\n",
              "    animation:\n",
              "      spin 1s steps(1) infinite;\n",
              "  }\n",
              "\n",
              "  @keyframes spin {\n",
              "    0% {\n",
              "      border-color: transparent;\n",
              "      border-bottom-color: var(--fill-color);\n",
              "      border-left-color: var(--fill-color);\n",
              "    }\n",
              "    20% {\n",
              "      border-color: transparent;\n",
              "      border-left-color: var(--fill-color);\n",
              "      border-top-color: var(--fill-color);\n",
              "    }\n",
              "    30% {\n",
              "      border-color: transparent;\n",
              "      border-left-color: var(--fill-color);\n",
              "      border-top-color: var(--fill-color);\n",
              "      border-right-color: var(--fill-color);\n",
              "    }\n",
              "    40% {\n",
              "      border-color: transparent;\n",
              "      border-right-color: var(--fill-color);\n",
              "      border-top-color: var(--fill-color);\n",
              "    }\n",
              "    60% {\n",
              "      border-color: transparent;\n",
              "      border-right-color: var(--fill-color);\n",
              "    }\n",
              "    80% {\n",
              "      border-color: transparent;\n",
              "      border-right-color: var(--fill-color);\n",
              "      border-bottom-color: var(--fill-color);\n",
              "    }\n",
              "    90% {\n",
              "      border-color: transparent;\n",
              "      border-bottom-color: var(--fill-color);\n",
              "    }\n",
              "  }\n",
              "</style>\n",
              "\n",
              "  <script>\n",
              "    async function quickchart(key) {\n",
              "      const quickchartButtonEl =\n",
              "        document.querySelector('#' + key + ' button');\n",
              "      quickchartButtonEl.disabled = true;  // To prevent multiple clicks.\n",
              "      quickchartButtonEl.classList.add('colab-df-spinner');\n",
              "      try {\n",
              "        const charts = await google.colab.kernel.invokeFunction(\n",
              "            'suggestCharts', [key], {});\n",
              "      } catch (error) {\n",
              "        console.error('Error during call to suggestCharts:', error);\n",
              "      }\n",
              "      quickchartButtonEl.classList.remove('colab-df-spinner');\n",
              "      quickchartButtonEl.classList.add('colab-df-quickchart-complete');\n",
              "    }\n",
              "    (() => {\n",
              "      let quickchartButtonEl =\n",
              "        document.querySelector('#df-b866fa97-34f2-4f35-ac97-16b4b09163d2 button');\n",
              "      quickchartButtonEl.style.display =\n",
              "        google.colab.kernel.accessAllowed ? 'block' : 'none';\n",
              "    })();\n",
              "  </script>\n",
              "</div>\n",
              "\n",
              "    </div>\n",
              "  </div>\n"
            ],
            "application/vnd.google.colaboratory.intrinsic+json": {
              "type": "dataframe",
              "variable_name": "submit",
              "summary": "{\n  \"name\": \"submit\",\n  \"rows\": 50000,\n  \"fields\": [\n    {\n      \"column\": \"id\",\n      \"properties\": {\n        \"dtype\": \"string\",\n        \"num_unique_values\": 50000,\n        \"samples\": [\n          \"TEST_33553\",\n          \"TEST_09427\",\n          \"TEST_00199\"\n        ],\n        \"semantic_type\": \"\",\n        \"description\": \"\"\n      }\n    },\n    {\n      \"column\": \"fake\",\n      \"properties\": {\n        \"dtype\": \"number\",\n        \"std\": 0.35326394217622736,\n        \"min\": 2.3979239927029994e-07,\n        \"max\": 0.9999998807907104,\n        \"num_unique_values\": 49446,\n        \"samples\": [\n          0.4058166444301605,\n          0.495982825756073,\n          0.10228029638528824\n        ],\n        \"semantic_type\": \"\",\n        \"description\": \"\"\n      }\n    },\n    {\n      \"column\": \"real\",\n      \"properties\": {\n        \"dtype\": \"number\",\n        \"std\": 0.15173681603538097,\n        \"min\": 5.084658369014505e-06,\n        \"max\": 1.0,\n        \"num_unique_values\": 9401,\n        \"samples\": [\n          0.9983015060424805,\n          0.9983349442481995,\n          0.9757696986198425\n        ],\n        \"semantic_type\": \"\",\n        \"description\": \"\"\n      }\n    }\n  ]\n}"
            }
          },
          "metadata": {},
          "execution_count": 116
        }
      ]
    },
    {
      "cell_type": "code",
      "source": [
        "plt.figure(figsize=(12, 5))\n",
        "\n",
        "plt.subplot(1, 2, 1)\n",
        "plt.title(\"Distribution of Fake\")\n",
        "plt.hist(submit[\"fake\"], bins=20)\n",
        "\n",
        "plt.subplot(1, 2, 2)\n",
        "plt.title(\"Distribution of Real\")\n",
        "plt.hist(submit[\"real\"], bins=20)\n",
        "plt.show()"
      ],
      "metadata": {
        "colab": {
          "base_uri": "https://localhost:8080/",
          "height": 468
        },
        "id": "XYsUmtuX0UDP",
        "outputId": "36512d9d-4a9a-4d64-89e6-392b8e49e7c4"
      },
      "execution_count": null,
      "outputs": [
        {
          "output_type": "display_data",
          "data": {
            "text/plain": [
              "<Figure size 1200x500 with 2 Axes>"
            ],
            "image/png": "[encoded data removed]"
          },
          "metadata": {}
        }
      ]
    },
    {
      "cell_type": "code",
      "source": [
        "submit.iloc[:, 1:] = np_preds.mean(axis=1).tolist()\n",
        "submit.to_csv(\"merged_mel_resnet_v2_mean.csv\", index=False)\n",
        "\n",
        "plt.figure(figsize=(12, 5))\n",
        "\n",
        "plt.subplot(1, 2, 1)\n",
        "plt.title(\"Distribution of Fake\")\n",
        "plt.hist(submit[\"fake\"], bins=20)\n",
        "\n",
        "plt.subplot(1, 2, 2)\n",
        "plt.title(\"Distribution of Real\")\n",
        "plt.hist(submit[\"real\"], bins=20)\n",
        "plt.show()"
      ],
      "metadata": {
        "id": "TulQPRHP0apI",
        "colab": {
          "base_uri": "https://localhost:8080/",
          "height": 468
        },
        "outputId": "deea3ebf-7200-4be8-bbf0-5fdd089c5436"
      },
      "execution_count": null,
      "outputs": [
        {
          "output_type": "display_data",
          "data": {
            "text/plain": [
              "<Figure size 1200x500 with 2 Axes>"
            ],
            "image/png": "[encoded data removed]"
          },
          "metadata": {}
        }
      ]
    },
    {
      "cell_type": "code",
      "source": [],
      "metadata": {
        "id": "BtcQKvvJtECC"
      },
      "execution_count": null,
      "outputs": []
    }
  ]
}